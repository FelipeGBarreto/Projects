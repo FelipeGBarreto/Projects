{
  "nbformat": 4,
  "nbformat_minor": 0,
  "metadata": {
    "colab": {
      "name": "Rascunho.ipynb",
      "provenance": [],
      "mount_file_id": "1sx0QPXDyNPz66olVu5Carcg_b-Lg6SLy",
      "authorship_tag": "ABX9TyPBjN581VOvl+kG3g/jCLbj",
      "include_colab_link": true
    },
    "kernelspec": {
      "name": "python3",
      "display_name": "Python 3"
    }
  },
  "cells": [
    {
      "cell_type": "markdown",
      "metadata": {
        "id": "view-in-github",
        "colab_type": "text"
      },
      "source": [
        "<a href=\"https://colab.research.google.com/github/FelipeGBarreto/Projects/blob/master/Rascunho.ipynb\" target=\"_parent\"><img src=\"https://colab.research.google.com/assets/colab-badge.svg\" alt=\"Open In Colab\"/></a>"
      ]
    },
    {
      "cell_type": "markdown",
      "metadata": {
        "id": "c3s-h5QxU3SD"
      },
      "source": [
        "# CASE – ANALISTA DE BUSINESS INTELLIGENCE:\n",
        "\n",
        "A Fortbrasil tem como um dos seus maiores desafios a entrega de cartões na casa dos nossos clientes, visto que existem área de difícil acesso, outras que apenas o Correios opera, dentre outros. Tendo isso em vista, começamos a diversificar os modais de entrega dos cartões emitidos.\n",
        "\n",
        "*O case consiste em criar um painel de acompanhamento dos cartões emitidos pela\n",
        "empresa, e para isso estão sendo enviadas 05 bases:*\n",
        "\n",
        "1. **“T_CARTÃO”:** Todos os cartões emitidos;\n",
        "2. **“T_DESBLOQUEIO”:** Indica se o cliente desbloqueou o cartão, considerar apenas o primeiro\n",
        "desbloqueio de cada ID_CARTÃO;\n",
        "3. **“T_MODAIS”:** Indica por qual modal o cartão foi enviado e a data;\n",
        "4. **“T_CANAL_DESBLOQUEIO”:** Registro de por onde foi feito o desbloqueio do cartão, caso não exista nenhum registro de desbloqueio nessa tabela, significa que ele foi feito via “Central de Atendimento”\n",
        "5. **“T_COMPRAS”:** Registro de compras efetuadas em 2020, assim como seu status.\n",
        "***\n",
        "\n",
        "\n",
        "***Pede-se para:***\n",
        "\n",
        "- Calcular o desbloqueio por safra (mês de emissão) dos cartões de 2020 – acompanhamento\n",
        "acumulado por 90 dias desde a data de emissão;\n",
        "- Calcular a ativação (primeira compra) por safra de emissão dos cartões de 2020 -\n",
        "acompanhamento acumulado por 90 dias desde a data de envio;\n",
        "- Analisar a efetividade de entrega (podendo ser medida pelo desbloqueio) e sugerir\n",
        "melhorias;\n",
        "- Analisar a performance de ativação e sugerir melhorias;\n",
        "\n",
        "**OBS1:** devem ser considerados cartões válidos apenas os que não começam por ‘9099’ e que tem validade maior que 30 dias.\n",
        "\n",
        "**OBS2:** use com inteligência as informações ofertadas para gerar um dashboard claro, gerencial e que possa ser usado para tomada de decisões. Gostamos de filtros que facilitem nossas análises.\n",
        "\n",
        "**OBS3:** segue abaixo o exemplo de gráfico de desbloqueio/ativação acumulada X tempo que pode servir de base.\n",
        "\n",
        "***\n",
        "\n",
        "Toda a visualização final deve ser feita em Power BI. Caso precise fazer algum ETL em ferramenta diferente dele, enviar os scripts. É importante que seja enviado junto com o arquivo em Power BI e os scripts (se houverem), uma breve explicação sobre a lógica utilizada e os resultados obtidos.\n",
        "\n",
        "**Dúvidas:** aline.ricarte@fortbrasil.com.br"
      ]
    },
    {
      "cell_type": "markdown",
      "metadata": {
        "id": "JYrcA7Z8ULkO"
      },
      "source": [
        "# Importando as Bibliotecas Necessárias"
      ]
    },
    {
      "cell_type": "code",
      "metadata": {
        "id": "0A36dag_Oeqe"
      },
      "source": [
        "import pandas as pd\n",
        "import numpy as np\n",
        "import datetime"
      ],
      "execution_count": 1,
      "outputs": []
    },
    {
      "cell_type": "markdown",
      "metadata": {
        "id": "n7JJ9NAJUP6V"
      },
      "source": [
        "# Conhecendo os Dados"
      ]
    },
    {
      "cell_type": "markdown",
      "metadata": {
        "id": "vyLXW1uWaQ40"
      },
      "source": [
        "Conhecendo os dados e veridicando se há valores faltantes, bem como se há valores repetidos, com o fito de um melhor tratamento e precisão dos dados."
      ]
    },
    {
      "cell_type": "code",
      "metadata": {
        "colab": {
          "base_uri": "https://localhost:8080/"
        },
        "id": "8qAonwgKPBUQ",
        "outputId": "124e678f-8da0-45ef-bf43-00120bc44fce"
      },
      "source": [
        "df_cartao = pd.read_csv(\"/content/drive/MyDrive/Emprego/Case Analista 2021 - V2/T_CARTAO.csv\", sep=';')\n",
        "df_desbloqueio = pd.read_excel(\"/content/drive/MyDrive/Emprego/Case Analista 2021 - V2/T_DESBLOQUEIO.xlsx\")\n",
        "df_modal = pd.read_excel(\"/content/drive/MyDrive/Emprego/Case Analista 2021 - V2/T_MODAIS.xlsx\")\n",
        "df_canal_desbloq = pd.read_csv(\"/content/drive/MyDrive/Emprego/Case Analista 2021 - V2/T_CANAL_DESBLOQUEIO.csv\", sep=';')\n",
        "df_compras = pd.read_csv(\"/content/drive/MyDrive/Emprego/Case Analista 2021 - V2/T_COMPRA.csv\", sep=';')"
      ],
      "execution_count": 2,
      "outputs": [
        {
          "output_type": "stream",
          "text": [
            "/usr/local/lib/python3.7/dist-packages/IPython/core/interactiveshell.py:2718: DtypeWarning: Columns (4) have mixed types.Specify dtype option on import or set low_memory=False.\n",
            "  interactivity=interactivity, compiler=compiler, result=result)\n"
          ],
          "name": "stderr"
        }
      ]
    },
    {
      "cell_type": "code",
      "metadata": {
        "id": "gRgH2KisWSLw"
      },
      "source": [
        "t_cartao = df_cartao.copy()\n",
        "t_desbloqueio = df_desbloqueio.copy()\n",
        "t_modal = df_modal.copy()\n",
        "t_canal_desbloq = df_canal_desbloq.copy()\n",
        "t_compras = df_compras.copy()"
      ],
      "execution_count": 41,
      "outputs": []
    },
    {
      "cell_type": "code",
      "metadata": {
        "id": "d03LCpiNFGI1"
      },
      "source": [
        "def retirar_hr_datas(data,campo):\n",
        "  data[campo] = data[campo].astype(str)\n",
        "  separa_data = data[campo].str.split(\" \", n = 1, expand = True)\n",
        "  data[campo] = separa_data[0]\n",
        "  data[campo] = pd.to_datetime(data[campo])"
      ],
      "execution_count": 42,
      "outputs": []
    },
    {
      "cell_type": "code",
      "metadata": {
        "id": "f6fjh5ppFK2A"
      },
      "source": [
        "retirar_hr_datas(t_cartao,\"DT_GERACAO_EMBOSSING\")\n",
        "retirar_hr_datas(t_cartao,\"DT_VALIDADE\")\n"
      ],
      "execution_count": 43,
      "outputs": []
    },
    {
      "cell_type": "code",
      "metadata": {
        "id": "holdJEQaUQm_",
        "outputId": "8e4df958-bf20-4b74-f413-79a60e555379",
        "colab": {
          "base_uri": "https://localhost:8080/",
          "height": 72
        }
      },
      "source": [
        "display(t_compras.shape, t_desbloqueio.shape,t_cartao.shape)"
      ],
      "execution_count": 44,
      "outputs": [
        {
          "output_type": "display_data",
          "data": {
            "text/plain": [
              "(5823678, 4)"
            ]
          },
          "metadata": {
            "tags": []
          }
        },
        {
          "output_type": "display_data",
          "data": {
            "text/plain": [
              "(386373, 2)"
            ]
          },
          "metadata": {
            "tags": []
          }
        },
        {
          "output_type": "display_data",
          "data": {
            "text/plain": [
              "(973234, 6)"
            ]
          },
          "metadata": {
            "tags": []
          }
        }
      ]
    },
    {
      "cell_type": "code",
      "metadata": {
        "id": "z2pbxcf5U5Pz",
        "outputId": "51a7f247-b50b-4789-8f1b-d107b71fcb31",
        "colab": {
          "base_uri": "https://localhost:8080/",
          "height": 290
        }
      },
      "source": [
        "display(t_compras.sample(2), t_desbloqueio.sample(2),t_cartao.sample(2))"
      ],
      "execution_count": 45,
      "outputs": [
        {
          "output_type": "display_data",
          "data": {
            "text/html": [
              "<div>\n",
              "<style scoped>\n",
              "    .dataframe tbody tr th:only-of-type {\n",
              "        vertical-align: middle;\n",
              "    }\n",
              "\n",
              "    .dataframe tbody tr th {\n",
              "        vertical-align: top;\n",
              "    }\n",
              "\n",
              "    .dataframe thead th {\n",
              "        text-align: right;\n",
              "    }\n",
              "</style>\n",
              "<table border=\"1\" class=\"dataframe\">\n",
              "  <thead>\n",
              "    <tr style=\"text-align: right;\">\n",
              "      <th></th>\n",
              "      <th>ID_CONTA</th>\n",
              "      <th>ID_CARTAO</th>\n",
              "      <th>DS_STATUS</th>\n",
              "      <th>DT_COMPRA</th>\n",
              "    </tr>\n",
              "  </thead>\n",
              "  <tbody>\n",
              "    <tr>\n",
              "      <th>965611</th>\n",
              "      <td>840852</td>\n",
              "      <td>4364907</td>\n",
              "      <td>Processada</td>\n",
              "      <td>2020-07-22 19:26:00</td>\n",
              "    </tr>\n",
              "    <tr>\n",
              "      <th>3880111</th>\n",
              "      <td>1988848</td>\n",
              "      <td>4603901</td>\n",
              "      <td>Processada</td>\n",
              "      <td>2020-12-05 17:56:00</td>\n",
              "    </tr>\n",
              "  </tbody>\n",
              "</table>\n",
              "</div>"
            ],
            "text/plain": [
              "         ID_CONTA  ID_CARTAO   DS_STATUS            DT_COMPRA\n",
              "965611     840852    4364907  Processada  2020-07-22 19:26:00\n",
              "3880111   1988848    4603901  Processada  2020-12-05 17:56:00"
            ]
          },
          "metadata": {
            "tags": []
          }
        },
        {
          "output_type": "display_data",
          "data": {
            "text/html": [
              "<div>\n",
              "<style scoped>\n",
              "    .dataframe tbody tr th:only-of-type {\n",
              "        vertical-align: middle;\n",
              "    }\n",
              "\n",
              "    .dataframe tbody tr th {\n",
              "        vertical-align: top;\n",
              "    }\n",
              "\n",
              "    .dataframe thead th {\n",
              "        text-align: right;\n",
              "    }\n",
              "</style>\n",
              "<table border=\"1\" class=\"dataframe\">\n",
              "  <thead>\n",
              "    <tr style=\"text-align: right;\">\n",
              "      <th></th>\n",
              "      <th>ID_CARTAO</th>\n",
              "      <th>DT_DESBLOQUEIO</th>\n",
              "    </tr>\n",
              "  </thead>\n",
              "  <tbody>\n",
              "    <tr>\n",
              "      <th>36998</th>\n",
              "      <td>4149297</td>\n",
              "      <td>2020-03-17</td>\n",
              "    </tr>\n",
              "    <tr>\n",
              "      <th>271568</th>\n",
              "      <td>4447669</td>\n",
              "      <td>2020-09-09</td>\n",
              "    </tr>\n",
              "  </tbody>\n",
              "</table>\n",
              "</div>"
            ],
            "text/plain": [
              "        ID_CARTAO DT_DESBLOQUEIO\n",
              "36998     4149297     2020-03-17\n",
              "271568    4447669     2020-09-09"
            ]
          },
          "metadata": {
            "tags": []
          }
        },
        {
          "output_type": "display_data",
          "data": {
            "text/html": [
              "<div>\n",
              "<style scoped>\n",
              "    .dataframe tbody tr th:only-of-type {\n",
              "        vertical-align: middle;\n",
              "    }\n",
              "\n",
              "    .dataframe tbody tr th {\n",
              "        vertical-align: top;\n",
              "    }\n",
              "\n",
              "    .dataframe thead th {\n",
              "        text-align: right;\n",
              "    }\n",
              "</style>\n",
              "<table border=\"1\" class=\"dataframe\">\n",
              "  <thead>\n",
              "    <tr style=\"text-align: right;\">\n",
              "      <th></th>\n",
              "      <th>ID_CARTAO</th>\n",
              "      <th>ID_CONTA</th>\n",
              "      <th>NU_SEQ_CARTAO</th>\n",
              "      <th>DT_GERACAO_EMBOSSING</th>\n",
              "      <th>DT_VALIDADE</th>\n",
              "      <th>DS_CARTAO</th>\n",
              "    </tr>\n",
              "  </thead>\n",
              "  <tbody>\n",
              "    <tr>\n",
              "      <th>848053</th>\n",
              "      <td>4120092</td>\n",
              "      <td>1856614</td>\n",
              "      <td>1</td>\n",
              "      <td>2020-02-11</td>\n",
              "      <td>2025-02-13</td>\n",
              "      <td>8596********1945</td>\n",
              "    </tr>\n",
              "    <tr>\n",
              "      <th>54360</th>\n",
              "      <td>4280542</td>\n",
              "      <td>1277837</td>\n",
              "      <td>3</td>\n",
              "      <td>2020-04-27</td>\n",
              "      <td>2025-02-13</td>\n",
              "      <td>8596********2223</td>\n",
              "    </tr>\n",
              "  </tbody>\n",
              "</table>\n",
              "</div>"
            ],
            "text/plain": [
              "        ID_CARTAO  ID_CONTA  ...  DT_VALIDADE         DS_CARTAO\n",
              "848053    4120092   1856614  ...   2025-02-13  8596********1945\n",
              "54360     4280542   1277837  ...   2025-02-13  8596********2223\n",
              "\n",
              "[2 rows x 6 columns]"
            ]
          },
          "metadata": {
            "tags": []
          }
        }
      ]
    },
    {
      "cell_type": "code",
      "metadata": {
        "id": "QCWZedi3NF92"
      },
      "source": [
        "t_cartao = t_cartao.drop_duplicates()\n",
        "t_desbloqueio = t_desbloqueio.sort_values(\"DT_DESBLOQUEIO\").drop_duplicates(subset=[\"ID_CARTAO\"], keep='first')\n",
        "t_compras = t_compras.sort_values([\"DT_COMPRA\"]).drop_duplicates(subset=[\"ID_CARTAO\"], keep='first')"
      ],
      "execution_count": 46,
      "outputs": []
    },
    {
      "cell_type": "code",
      "metadata": {
        "id": "VEjcjxVqYKq0"
      },
      "source": [
        "safra = t_cartao.copy()"
      ],
      "execution_count": 47,
      "outputs": []
    },
    {
      "cell_type": "code",
      "metadata": {
        "id": "oy2p68BsE5SX",
        "outputId": "1f33cb44-ee01-448f-bd1f-e685a38e5c3a",
        "colab": {
          "base_uri": "https://localhost:8080/",
          "height": 198
        }
      },
      "source": [
        "desbloqueio_safra = t_cartao.merge(t_desbloqueio, how='left', on='ID_CARTAO')\n",
        "desbloqueio_safra = desbloqueio_safra[~desbloqueio_safra[\"DT_DESBLOQUEIO\"].isna()]\n",
        "desbloqueio_safra.head()"
      ],
      "execution_count": 48,
      "outputs": [
        {
          "output_type": "execute_result",
          "data": {
            "text/html": [
              "<div>\n",
              "<style scoped>\n",
              "    .dataframe tbody tr th:only-of-type {\n",
              "        vertical-align: middle;\n",
              "    }\n",
              "\n",
              "    .dataframe tbody tr th {\n",
              "        vertical-align: top;\n",
              "    }\n",
              "\n",
              "    .dataframe thead th {\n",
              "        text-align: right;\n",
              "    }\n",
              "</style>\n",
              "<table border=\"1\" class=\"dataframe\">\n",
              "  <thead>\n",
              "    <tr style=\"text-align: right;\">\n",
              "      <th></th>\n",
              "      <th>ID_CARTAO</th>\n",
              "      <th>ID_CONTA</th>\n",
              "      <th>NU_SEQ_CARTAO</th>\n",
              "      <th>DT_GERACAO_EMBOSSING</th>\n",
              "      <th>DT_VALIDADE</th>\n",
              "      <th>DS_CARTAO</th>\n",
              "      <th>DT_DESBLOQUEIO</th>\n",
              "    </tr>\n",
              "  </thead>\n",
              "  <tbody>\n",
              "    <tr>\n",
              "      <th>4</th>\n",
              "      <td>4137129</td>\n",
              "      <td>1861372</td>\n",
              "      <td>2</td>\n",
              "      <td>2020-02-19</td>\n",
              "      <td>2025-02-13</td>\n",
              "      <td>8596********6955</td>\n",
              "      <td>2020-03-13</td>\n",
              "    </tr>\n",
              "    <tr>\n",
              "      <th>6</th>\n",
              "      <td>4137131</td>\n",
              "      <td>1861373</td>\n",
              "      <td>2</td>\n",
              "      <td>2020-02-19</td>\n",
              "      <td>2025-02-13</td>\n",
              "      <td>8596********0826</td>\n",
              "      <td>2020-02-13</td>\n",
              "    </tr>\n",
              "    <tr>\n",
              "      <th>8</th>\n",
              "      <td>4137133</td>\n",
              "      <td>1861374</td>\n",
              "      <td>2</td>\n",
              "      <td>2020-02-19</td>\n",
              "      <td>2025-02-13</td>\n",
              "      <td>8596********0242</td>\n",
              "      <td>2020-02-13</td>\n",
              "    </tr>\n",
              "    <tr>\n",
              "      <th>13</th>\n",
              "      <td>4137138</td>\n",
              "      <td>1479019</td>\n",
              "      <td>4</td>\n",
              "      <td>2020-02-13</td>\n",
              "      <td>2025-02-13</td>\n",
              "      <td>8596********2391</td>\n",
              "      <td>2020-02-28</td>\n",
              "    </tr>\n",
              "    <tr>\n",
              "      <th>15</th>\n",
              "      <td>4137140</td>\n",
              "      <td>1861377</td>\n",
              "      <td>2</td>\n",
              "      <td>2020-02-19</td>\n",
              "      <td>2025-02-13</td>\n",
              "      <td>8596********9857</td>\n",
              "      <td>2020-03-05</td>\n",
              "    </tr>\n",
              "  </tbody>\n",
              "</table>\n",
              "</div>"
            ],
            "text/plain": [
              "    ID_CARTAO  ID_CONTA  ...         DS_CARTAO DT_DESBLOQUEIO\n",
              "4     4137129   1861372  ...  8596********6955     2020-03-13\n",
              "6     4137131   1861373  ...  8596********0826     2020-02-13\n",
              "8     4137133   1861374  ...  8596********0242     2020-02-13\n",
              "13    4137138   1479019  ...  8596********2391     2020-02-28\n",
              "15    4137140   1861377  ...  8596********9857     2020-03-05\n",
              "\n",
              "[5 rows x 7 columns]"
            ]
          },
          "metadata": {
            "tags": []
          },
          "execution_count": 48
        }
      ]
    },
    {
      "cell_type": "code",
      "metadata": {
        "id": "0yBTpWm3Z-i1",
        "outputId": "bd646b8d-145d-4077-e174-395d1d73009b",
        "colab": {
          "base_uri": "https://localhost:8080/",
          "height": 417
        }
      },
      "source": [
        "display(desbloqueio_safra.head(2),desbloqueio_safra.shape,desbloqueio_safra.info(), desbloqueio_safra.ID_CARTAO.nunique())"
      ],
      "execution_count": 49,
      "outputs": [
        {
          "output_type": "stream",
          "text": [
            "<class 'pandas.core.frame.DataFrame'>\n",
            "Int64Index: 371543 entries, 4 to 973229\n",
            "Data columns (total 7 columns):\n",
            " #   Column                Non-Null Count   Dtype         \n",
            "---  ------                --------------   -----         \n",
            " 0   ID_CARTAO             371543 non-null  int64         \n",
            " 1   ID_CONTA              371543 non-null  int64         \n",
            " 2   NU_SEQ_CARTAO         371543 non-null  int64         \n",
            " 3   DT_GERACAO_EMBOSSING  371543 non-null  datetime64[ns]\n",
            " 4   DT_VALIDADE           371543 non-null  datetime64[ns]\n",
            " 5   DS_CARTAO             371543 non-null  object        \n",
            " 6   DT_DESBLOQUEIO        371543 non-null  datetime64[ns]\n",
            "dtypes: datetime64[ns](3), int64(3), object(1)\n",
            "memory usage: 22.7+ MB\n"
          ],
          "name": "stdout"
        },
        {
          "output_type": "display_data",
          "data": {
            "text/html": [
              "<div>\n",
              "<style scoped>\n",
              "    .dataframe tbody tr th:only-of-type {\n",
              "        vertical-align: middle;\n",
              "    }\n",
              "\n",
              "    .dataframe tbody tr th {\n",
              "        vertical-align: top;\n",
              "    }\n",
              "\n",
              "    .dataframe thead th {\n",
              "        text-align: right;\n",
              "    }\n",
              "</style>\n",
              "<table border=\"1\" class=\"dataframe\">\n",
              "  <thead>\n",
              "    <tr style=\"text-align: right;\">\n",
              "      <th></th>\n",
              "      <th>ID_CARTAO</th>\n",
              "      <th>ID_CONTA</th>\n",
              "      <th>NU_SEQ_CARTAO</th>\n",
              "      <th>DT_GERACAO_EMBOSSING</th>\n",
              "      <th>DT_VALIDADE</th>\n",
              "      <th>DS_CARTAO</th>\n",
              "      <th>DT_DESBLOQUEIO</th>\n",
              "    </tr>\n",
              "  </thead>\n",
              "  <tbody>\n",
              "    <tr>\n",
              "      <th>4</th>\n",
              "      <td>4137129</td>\n",
              "      <td>1861372</td>\n",
              "      <td>2</td>\n",
              "      <td>2020-02-19</td>\n",
              "      <td>2025-02-13</td>\n",
              "      <td>8596********6955</td>\n",
              "      <td>2020-03-13</td>\n",
              "    </tr>\n",
              "    <tr>\n",
              "      <th>6</th>\n",
              "      <td>4137131</td>\n",
              "      <td>1861373</td>\n",
              "      <td>2</td>\n",
              "      <td>2020-02-19</td>\n",
              "      <td>2025-02-13</td>\n",
              "      <td>8596********0826</td>\n",
              "      <td>2020-02-13</td>\n",
              "    </tr>\n",
              "  </tbody>\n",
              "</table>\n",
              "</div>"
            ],
            "text/plain": [
              "   ID_CARTAO  ID_CONTA  ...         DS_CARTAO DT_DESBLOQUEIO\n",
              "4    4137129   1861372  ...  8596********6955     2020-03-13\n",
              "6    4137131   1861373  ...  8596********0826     2020-02-13\n",
              "\n",
              "[2 rows x 7 columns]"
            ]
          },
          "metadata": {
            "tags": []
          }
        },
        {
          "output_type": "display_data",
          "data": {
            "text/plain": [
              "(371543, 7)"
            ]
          },
          "metadata": {
            "tags": []
          }
        },
        {
          "output_type": "display_data",
          "data": {
            "text/plain": [
              "None"
            ]
          },
          "metadata": {
            "tags": []
          }
        },
        {
          "output_type": "display_data",
          "data": {
            "text/plain": [
              "371543"
            ]
          },
          "metadata": {
            "tags": []
          }
        }
      ]
    },
    {
      "cell_type": "code",
      "metadata": {
        "id": "qiDDPGYKVbj9",
        "outputId": "0ee6ecc4-cb7b-4ad2-87b0-5934ccd25e94",
        "colab": {
          "base_uri": "https://localhost:8080/",
          "height": 198
        }
      },
      "source": [
        "ativacao_safra = desbloqueio_safra.merge(t_compras, how='left', on=['ID_CARTAO','ID_CONTA'])\n",
        "ativacao_safra = ativacao_safra[~ativacao_safra[\"DT_COMPRA\"].isna()]\n",
        "ativacao_safra.head()"
      ],
      "execution_count": 50,
      "outputs": [
        {
          "output_type": "execute_result",
          "data": {
            "text/html": [
              "<div>\n",
              "<style scoped>\n",
              "    .dataframe tbody tr th:only-of-type {\n",
              "        vertical-align: middle;\n",
              "    }\n",
              "\n",
              "    .dataframe tbody tr th {\n",
              "        vertical-align: top;\n",
              "    }\n",
              "\n",
              "    .dataframe thead th {\n",
              "        text-align: right;\n",
              "    }\n",
              "</style>\n",
              "<table border=\"1\" class=\"dataframe\">\n",
              "  <thead>\n",
              "    <tr style=\"text-align: right;\">\n",
              "      <th></th>\n",
              "      <th>ID_CARTAO</th>\n",
              "      <th>ID_CONTA</th>\n",
              "      <th>NU_SEQ_CARTAO</th>\n",
              "      <th>DT_GERACAO_EMBOSSING</th>\n",
              "      <th>DT_VALIDADE</th>\n",
              "      <th>DS_CARTAO</th>\n",
              "      <th>DT_DESBLOQUEIO</th>\n",
              "      <th>DS_STATUS</th>\n",
              "      <th>DT_COMPRA</th>\n",
              "    </tr>\n",
              "  </thead>\n",
              "  <tbody>\n",
              "    <tr>\n",
              "      <th>0</th>\n",
              "      <td>4137129</td>\n",
              "      <td>1861372</td>\n",
              "      <td>2</td>\n",
              "      <td>2020-02-19</td>\n",
              "      <td>2025-02-13</td>\n",
              "      <td>8596********6955</td>\n",
              "      <td>2020-03-13</td>\n",
              "      <td>Processada</td>\n",
              "      <td>2020-03-19 11:13:00</td>\n",
              "    </tr>\n",
              "    <tr>\n",
              "      <th>1</th>\n",
              "      <td>4137131</td>\n",
              "      <td>1861373</td>\n",
              "      <td>2</td>\n",
              "      <td>2020-02-19</td>\n",
              "      <td>2025-02-13</td>\n",
              "      <td>8596********0826</td>\n",
              "      <td>2020-02-13</td>\n",
              "      <td>Processada</td>\n",
              "      <td>2020-02-13 12:52:00</td>\n",
              "    </tr>\n",
              "    <tr>\n",
              "      <th>2</th>\n",
              "      <td>4137133</td>\n",
              "      <td>1861374</td>\n",
              "      <td>2</td>\n",
              "      <td>2020-02-19</td>\n",
              "      <td>2025-02-13</td>\n",
              "      <td>8596********0242</td>\n",
              "      <td>2020-02-13</td>\n",
              "      <td>Processada</td>\n",
              "      <td>2020-02-13 14:14:00</td>\n",
              "    </tr>\n",
              "    <tr>\n",
              "      <th>3</th>\n",
              "      <td>4137138</td>\n",
              "      <td>1479019</td>\n",
              "      <td>4</td>\n",
              "      <td>2020-02-13</td>\n",
              "      <td>2025-02-13</td>\n",
              "      <td>8596********2391</td>\n",
              "      <td>2020-02-28</td>\n",
              "      <td>Processada</td>\n",
              "      <td>2020-03-01 19:19:00</td>\n",
              "    </tr>\n",
              "    <tr>\n",
              "      <th>4</th>\n",
              "      <td>4137140</td>\n",
              "      <td>1861377</td>\n",
              "      <td>2</td>\n",
              "      <td>2020-02-19</td>\n",
              "      <td>2025-02-13</td>\n",
              "      <td>8596********9857</td>\n",
              "      <td>2020-03-05</td>\n",
              "      <td>Processada</td>\n",
              "      <td>2020-08-07 08:43:00</td>\n",
              "    </tr>\n",
              "  </tbody>\n",
              "</table>\n",
              "</div>"
            ],
            "text/plain": [
              "   ID_CARTAO  ID_CONTA  ...   DS_STATUS            DT_COMPRA\n",
              "0    4137129   1861372  ...  Processada  2020-03-19 11:13:00\n",
              "1    4137131   1861373  ...  Processada  2020-02-13 12:52:00\n",
              "2    4137133   1861374  ...  Processada  2020-02-13 14:14:00\n",
              "3    4137138   1479019  ...  Processada  2020-03-01 19:19:00\n",
              "4    4137140   1861377  ...  Processada  2020-08-07 08:43:00\n",
              "\n",
              "[5 rows x 9 columns]"
            ]
          },
          "metadata": {
            "tags": []
          },
          "execution_count": 50
        }
      ]
    },
    {
      "cell_type": "code",
      "metadata": {
        "id": "aUPxepSLVokJ",
        "outputId": "71fe49a9-b31d-4be9-ae52-d3c392e9adba",
        "colab": {
          "base_uri": "https://localhost:8080/",
          "height": 454
        }
      },
      "source": [
        "display(ativacao_safra.head(2),ativacao_safra.shape,ativacao_safra.info(),ativacao_safra.ID_CARTAO.nunique())"
      ],
      "execution_count": 51,
      "outputs": [
        {
          "output_type": "stream",
          "text": [
            "<class 'pandas.core.frame.DataFrame'>\n",
            "Int64Index: 277034 entries, 0 to 371542\n",
            "Data columns (total 9 columns):\n",
            " #   Column                Non-Null Count   Dtype         \n",
            "---  ------                --------------   -----         \n",
            " 0   ID_CARTAO             277034 non-null  int64         \n",
            " 1   ID_CONTA              277034 non-null  int64         \n",
            " 2   NU_SEQ_CARTAO         277034 non-null  int64         \n",
            " 3   DT_GERACAO_EMBOSSING  277034 non-null  datetime64[ns]\n",
            " 4   DT_VALIDADE           277034 non-null  datetime64[ns]\n",
            " 5   DS_CARTAO             277034 non-null  object        \n",
            " 6   DT_DESBLOQUEIO        277034 non-null  datetime64[ns]\n",
            " 7   DS_STATUS             277034 non-null  object        \n",
            " 8   DT_COMPRA             277034 non-null  object        \n",
            "dtypes: datetime64[ns](3), int64(3), object(3)\n",
            "memory usage: 21.1+ MB\n"
          ],
          "name": "stdout"
        },
        {
          "output_type": "display_data",
          "data": {
            "text/html": [
              "<div>\n",
              "<style scoped>\n",
              "    .dataframe tbody tr th:only-of-type {\n",
              "        vertical-align: middle;\n",
              "    }\n",
              "\n",
              "    .dataframe tbody tr th {\n",
              "        vertical-align: top;\n",
              "    }\n",
              "\n",
              "    .dataframe thead th {\n",
              "        text-align: right;\n",
              "    }\n",
              "</style>\n",
              "<table border=\"1\" class=\"dataframe\">\n",
              "  <thead>\n",
              "    <tr style=\"text-align: right;\">\n",
              "      <th></th>\n",
              "      <th>ID_CARTAO</th>\n",
              "      <th>ID_CONTA</th>\n",
              "      <th>NU_SEQ_CARTAO</th>\n",
              "      <th>DT_GERACAO_EMBOSSING</th>\n",
              "      <th>DT_VALIDADE</th>\n",
              "      <th>DS_CARTAO</th>\n",
              "      <th>DT_DESBLOQUEIO</th>\n",
              "      <th>DS_STATUS</th>\n",
              "      <th>DT_COMPRA</th>\n",
              "    </tr>\n",
              "  </thead>\n",
              "  <tbody>\n",
              "    <tr>\n",
              "      <th>0</th>\n",
              "      <td>4137129</td>\n",
              "      <td>1861372</td>\n",
              "      <td>2</td>\n",
              "      <td>2020-02-19</td>\n",
              "      <td>2025-02-13</td>\n",
              "      <td>8596********6955</td>\n",
              "      <td>2020-03-13</td>\n",
              "      <td>Processada</td>\n",
              "      <td>2020-03-19 11:13:00</td>\n",
              "    </tr>\n",
              "    <tr>\n",
              "      <th>1</th>\n",
              "      <td>4137131</td>\n",
              "      <td>1861373</td>\n",
              "      <td>2</td>\n",
              "      <td>2020-02-19</td>\n",
              "      <td>2025-02-13</td>\n",
              "      <td>8596********0826</td>\n",
              "      <td>2020-02-13</td>\n",
              "      <td>Processada</td>\n",
              "      <td>2020-02-13 12:52:00</td>\n",
              "    </tr>\n",
              "  </tbody>\n",
              "</table>\n",
              "</div>"
            ],
            "text/plain": [
              "   ID_CARTAO  ID_CONTA  ...   DS_STATUS            DT_COMPRA\n",
              "0    4137129   1861372  ...  Processada  2020-03-19 11:13:00\n",
              "1    4137131   1861373  ...  Processada  2020-02-13 12:52:00\n",
              "\n",
              "[2 rows x 9 columns]"
            ]
          },
          "metadata": {
            "tags": []
          }
        },
        {
          "output_type": "display_data",
          "data": {
            "text/plain": [
              "(277034, 9)"
            ]
          },
          "metadata": {
            "tags": []
          }
        },
        {
          "output_type": "display_data",
          "data": {
            "text/plain": [
              "None"
            ]
          },
          "metadata": {
            "tags": []
          }
        },
        {
          "output_type": "display_data",
          "data": {
            "text/plain": [
              "277034"
            ]
          },
          "metadata": {
            "tags": []
          }
        }
      ]
    },
    {
      "cell_type": "markdown",
      "metadata": {
        "id": "WukQADmkavcV"
      },
      "source": [
        "# Cálculos"
      ]
    },
    {
      "cell_type": "code",
      "metadata": {
        "id": "wAumWjfbX82R",
        "outputId": "652ca4e6-ad29-4d35-9165-ef7770bfe3b5",
        "colab": {
          "base_uri": "https://localhost:8080/",
          "height": 560
        }
      },
      "source": [
        "display(safra.head(), desbloqueio_safra.head(), ativacao_safra.head())"
      ],
      "execution_count": 52,
      "outputs": [
        {
          "output_type": "display_data",
          "data": {
            "text/html": [
              "<div>\n",
              "<style scoped>\n",
              "    .dataframe tbody tr th:only-of-type {\n",
              "        vertical-align: middle;\n",
              "    }\n",
              "\n",
              "    .dataframe tbody tr th {\n",
              "        vertical-align: top;\n",
              "    }\n",
              "\n",
              "    .dataframe thead th {\n",
              "        text-align: right;\n",
              "    }\n",
              "</style>\n",
              "<table border=\"1\" class=\"dataframe\">\n",
              "  <thead>\n",
              "    <tr style=\"text-align: right;\">\n",
              "      <th></th>\n",
              "      <th>ID_CARTAO</th>\n",
              "      <th>ID_CONTA</th>\n",
              "      <th>NU_SEQ_CARTAO</th>\n",
              "      <th>DT_GERACAO_EMBOSSING</th>\n",
              "      <th>DT_VALIDADE</th>\n",
              "      <th>DS_CARTAO</th>\n",
              "    </tr>\n",
              "  </thead>\n",
              "  <tbody>\n",
              "    <tr>\n",
              "      <th>0</th>\n",
              "      <td>4137125</td>\n",
              "      <td>1861370</td>\n",
              "      <td>2</td>\n",
              "      <td>2020-02-19</td>\n",
              "      <td>2025-02-13</td>\n",
              "      <td>8596********6981</td>\n",
              "    </tr>\n",
              "    <tr>\n",
              "      <th>1</th>\n",
              "      <td>4137126</td>\n",
              "      <td>1861371</td>\n",
              "      <td>1</td>\n",
              "      <td>2020-02-19</td>\n",
              "      <td>2025-02-13</td>\n",
              "      <td>8596********1863</td>\n",
              "    </tr>\n",
              "    <tr>\n",
              "      <th>2</th>\n",
              "      <td>4137127</td>\n",
              "      <td>1861371</td>\n",
              "      <td>2</td>\n",
              "      <td>2020-02-19</td>\n",
              "      <td>2025-02-13</td>\n",
              "      <td>8596********1096</td>\n",
              "    </tr>\n",
              "    <tr>\n",
              "      <th>3</th>\n",
              "      <td>4137128</td>\n",
              "      <td>1861372</td>\n",
              "      <td>1</td>\n",
              "      <td>2020-02-19</td>\n",
              "      <td>2025-02-13</td>\n",
              "      <td>8596********5796</td>\n",
              "    </tr>\n",
              "    <tr>\n",
              "      <th>4</th>\n",
              "      <td>4137129</td>\n",
              "      <td>1861372</td>\n",
              "      <td>2</td>\n",
              "      <td>2020-02-19</td>\n",
              "      <td>2025-02-13</td>\n",
              "      <td>8596********6955</td>\n",
              "    </tr>\n",
              "  </tbody>\n",
              "</table>\n",
              "</div>"
            ],
            "text/plain": [
              "   ID_CARTAO  ID_CONTA  ...  DT_VALIDADE         DS_CARTAO\n",
              "0    4137125   1861370  ...   2025-02-13  8596********6981\n",
              "1    4137126   1861371  ...   2025-02-13  8596********1863\n",
              "2    4137127   1861371  ...   2025-02-13  8596********1096\n",
              "3    4137128   1861372  ...   2025-02-13  8596********5796\n",
              "4    4137129   1861372  ...   2025-02-13  8596********6955\n",
              "\n",
              "[5 rows x 6 columns]"
            ]
          },
          "metadata": {
            "tags": []
          }
        },
        {
          "output_type": "display_data",
          "data": {
            "text/html": [
              "<div>\n",
              "<style scoped>\n",
              "    .dataframe tbody tr th:only-of-type {\n",
              "        vertical-align: middle;\n",
              "    }\n",
              "\n",
              "    .dataframe tbody tr th {\n",
              "        vertical-align: top;\n",
              "    }\n",
              "\n",
              "    .dataframe thead th {\n",
              "        text-align: right;\n",
              "    }\n",
              "</style>\n",
              "<table border=\"1\" class=\"dataframe\">\n",
              "  <thead>\n",
              "    <tr style=\"text-align: right;\">\n",
              "      <th></th>\n",
              "      <th>ID_CARTAO</th>\n",
              "      <th>ID_CONTA</th>\n",
              "      <th>NU_SEQ_CARTAO</th>\n",
              "      <th>DT_GERACAO_EMBOSSING</th>\n",
              "      <th>DT_VALIDADE</th>\n",
              "      <th>DS_CARTAO</th>\n",
              "      <th>DT_DESBLOQUEIO</th>\n",
              "    </tr>\n",
              "  </thead>\n",
              "  <tbody>\n",
              "    <tr>\n",
              "      <th>4</th>\n",
              "      <td>4137129</td>\n",
              "      <td>1861372</td>\n",
              "      <td>2</td>\n",
              "      <td>2020-02-19</td>\n",
              "      <td>2025-02-13</td>\n",
              "      <td>8596********6955</td>\n",
              "      <td>2020-03-13</td>\n",
              "    </tr>\n",
              "    <tr>\n",
              "      <th>6</th>\n",
              "      <td>4137131</td>\n",
              "      <td>1861373</td>\n",
              "      <td>2</td>\n",
              "      <td>2020-02-19</td>\n",
              "      <td>2025-02-13</td>\n",
              "      <td>8596********0826</td>\n",
              "      <td>2020-02-13</td>\n",
              "    </tr>\n",
              "    <tr>\n",
              "      <th>8</th>\n",
              "      <td>4137133</td>\n",
              "      <td>1861374</td>\n",
              "      <td>2</td>\n",
              "      <td>2020-02-19</td>\n",
              "      <td>2025-02-13</td>\n",
              "      <td>8596********0242</td>\n",
              "      <td>2020-02-13</td>\n",
              "    </tr>\n",
              "    <tr>\n",
              "      <th>13</th>\n",
              "      <td>4137138</td>\n",
              "      <td>1479019</td>\n",
              "      <td>4</td>\n",
              "      <td>2020-02-13</td>\n",
              "      <td>2025-02-13</td>\n",
              "      <td>8596********2391</td>\n",
              "      <td>2020-02-28</td>\n",
              "    </tr>\n",
              "    <tr>\n",
              "      <th>15</th>\n",
              "      <td>4137140</td>\n",
              "      <td>1861377</td>\n",
              "      <td>2</td>\n",
              "      <td>2020-02-19</td>\n",
              "      <td>2025-02-13</td>\n",
              "      <td>8596********9857</td>\n",
              "      <td>2020-03-05</td>\n",
              "    </tr>\n",
              "  </tbody>\n",
              "</table>\n",
              "</div>"
            ],
            "text/plain": [
              "    ID_CARTAO  ID_CONTA  ...         DS_CARTAO DT_DESBLOQUEIO\n",
              "4     4137129   1861372  ...  8596********6955     2020-03-13\n",
              "6     4137131   1861373  ...  8596********0826     2020-02-13\n",
              "8     4137133   1861374  ...  8596********0242     2020-02-13\n",
              "13    4137138   1479019  ...  8596********2391     2020-02-28\n",
              "15    4137140   1861377  ...  8596********9857     2020-03-05\n",
              "\n",
              "[5 rows x 7 columns]"
            ]
          },
          "metadata": {
            "tags": []
          }
        },
        {
          "output_type": "display_data",
          "data": {
            "text/html": [
              "<div>\n",
              "<style scoped>\n",
              "    .dataframe tbody tr th:only-of-type {\n",
              "        vertical-align: middle;\n",
              "    }\n",
              "\n",
              "    .dataframe tbody tr th {\n",
              "        vertical-align: top;\n",
              "    }\n",
              "\n",
              "    .dataframe thead th {\n",
              "        text-align: right;\n",
              "    }\n",
              "</style>\n",
              "<table border=\"1\" class=\"dataframe\">\n",
              "  <thead>\n",
              "    <tr style=\"text-align: right;\">\n",
              "      <th></th>\n",
              "      <th>ID_CARTAO</th>\n",
              "      <th>ID_CONTA</th>\n",
              "      <th>NU_SEQ_CARTAO</th>\n",
              "      <th>DT_GERACAO_EMBOSSING</th>\n",
              "      <th>DT_VALIDADE</th>\n",
              "      <th>DS_CARTAO</th>\n",
              "      <th>DT_DESBLOQUEIO</th>\n",
              "      <th>DS_STATUS</th>\n",
              "      <th>DT_COMPRA</th>\n",
              "    </tr>\n",
              "  </thead>\n",
              "  <tbody>\n",
              "    <tr>\n",
              "      <th>0</th>\n",
              "      <td>4137129</td>\n",
              "      <td>1861372</td>\n",
              "      <td>2</td>\n",
              "      <td>2020-02-19</td>\n",
              "      <td>2025-02-13</td>\n",
              "      <td>8596********6955</td>\n",
              "      <td>2020-03-13</td>\n",
              "      <td>Processada</td>\n",
              "      <td>2020-03-19 11:13:00</td>\n",
              "    </tr>\n",
              "    <tr>\n",
              "      <th>1</th>\n",
              "      <td>4137131</td>\n",
              "      <td>1861373</td>\n",
              "      <td>2</td>\n",
              "      <td>2020-02-19</td>\n",
              "      <td>2025-02-13</td>\n",
              "      <td>8596********0826</td>\n",
              "      <td>2020-02-13</td>\n",
              "      <td>Processada</td>\n",
              "      <td>2020-02-13 12:52:00</td>\n",
              "    </tr>\n",
              "    <tr>\n",
              "      <th>2</th>\n",
              "      <td>4137133</td>\n",
              "      <td>1861374</td>\n",
              "      <td>2</td>\n",
              "      <td>2020-02-19</td>\n",
              "      <td>2025-02-13</td>\n",
              "      <td>8596********0242</td>\n",
              "      <td>2020-02-13</td>\n",
              "      <td>Processada</td>\n",
              "      <td>2020-02-13 14:14:00</td>\n",
              "    </tr>\n",
              "    <tr>\n",
              "      <th>3</th>\n",
              "      <td>4137138</td>\n",
              "      <td>1479019</td>\n",
              "      <td>4</td>\n",
              "      <td>2020-02-13</td>\n",
              "      <td>2025-02-13</td>\n",
              "      <td>8596********2391</td>\n",
              "      <td>2020-02-28</td>\n",
              "      <td>Processada</td>\n",
              "      <td>2020-03-01 19:19:00</td>\n",
              "    </tr>\n",
              "    <tr>\n",
              "      <th>4</th>\n",
              "      <td>4137140</td>\n",
              "      <td>1861377</td>\n",
              "      <td>2</td>\n",
              "      <td>2020-02-19</td>\n",
              "      <td>2025-02-13</td>\n",
              "      <td>8596********9857</td>\n",
              "      <td>2020-03-05</td>\n",
              "      <td>Processada</td>\n",
              "      <td>2020-08-07 08:43:00</td>\n",
              "    </tr>\n",
              "  </tbody>\n",
              "</table>\n",
              "</div>"
            ],
            "text/plain": [
              "   ID_CARTAO  ID_CONTA  ...   DS_STATUS            DT_COMPRA\n",
              "0    4137129   1861372  ...  Processada  2020-03-19 11:13:00\n",
              "1    4137131   1861373  ...  Processada  2020-02-13 12:52:00\n",
              "2    4137133   1861374  ...  Processada  2020-02-13 14:14:00\n",
              "3    4137138   1479019  ...  Processada  2020-03-01 19:19:00\n",
              "4    4137140   1861377  ...  Processada  2020-08-07 08:43:00\n",
              "\n",
              "[5 rows x 9 columns]"
            ]
          },
          "metadata": {
            "tags": []
          }
        }
      ]
    },
    {
      "cell_type": "markdown",
      "metadata": {
        "id": "L0iDJywUbET6"
      },
      "source": [
        "# Safra"
      ]
    },
    {
      "cell_type": "code",
      "metadata": {
        "id": "W7r3gnzca5aR",
        "outputId": "aac3540a-ffc3-473c-d35f-c0f817748fb6",
        "colab": {
          "base_uri": "https://localhost:8080/",
          "height": 78
        }
      },
      "source": [
        "safra[\"Mes_Geracao\"] = safra[\"DT_GERACAO_EMBOSSING\"].dt.month\n",
        "safra = safra.groupby(\"Mes_Geracao\")[[\"ID_CARTAO\"]].count()\n",
        "safra.T"
      ],
      "execution_count": 53,
      "outputs": [
        {
          "output_type": "execute_result",
          "data": {
            "text/html": [
              "<div>\n",
              "<style scoped>\n",
              "    .dataframe tbody tr th:only-of-type {\n",
              "        vertical-align: middle;\n",
              "    }\n",
              "\n",
              "    .dataframe tbody tr th {\n",
              "        vertical-align: top;\n",
              "    }\n",
              "\n",
              "    .dataframe thead th {\n",
              "        text-align: right;\n",
              "    }\n",
              "</style>\n",
              "<table border=\"1\" class=\"dataframe\">\n",
              "  <thead>\n",
              "    <tr style=\"text-align: right;\">\n",
              "      <th>Mes_Geracao</th>\n",
              "      <th>1</th>\n",
              "      <th>2</th>\n",
              "      <th>3</th>\n",
              "      <th>4</th>\n",
              "      <th>5</th>\n",
              "      <th>6</th>\n",
              "      <th>7</th>\n",
              "      <th>8</th>\n",
              "      <th>9</th>\n",
              "      <th>10</th>\n",
              "      <th>11</th>\n",
              "      <th>12</th>\n",
              "    </tr>\n",
              "  </thead>\n",
              "  <tbody>\n",
              "    <tr>\n",
              "      <th>ID_CARTAO</th>\n",
              "      <td>170694</td>\n",
              "      <td>66149</td>\n",
              "      <td>65500</td>\n",
              "      <td>47663</td>\n",
              "      <td>46964</td>\n",
              "      <td>67199</td>\n",
              "      <td>72554</td>\n",
              "      <td>74720</td>\n",
              "      <td>67583</td>\n",
              "      <td>81037</td>\n",
              "      <td>99832</td>\n",
              "      <td>113339</td>\n",
              "    </tr>\n",
              "  </tbody>\n",
              "</table>\n",
              "</div>"
            ],
            "text/plain": [
              "Mes_Geracao      1      2      3      4   ...     9      10     11      12\n",
              "ID_CARTAO    170694  66149  65500  47663  ...  67583  81037  99832  113339\n",
              "\n",
              "[1 rows x 12 columns]"
            ]
          },
          "metadata": {
            "tags": []
          },
          "execution_count": 53
        }
      ]
    },
    {
      "cell_type": "markdown",
      "metadata": {
        "id": "QLvso_-Xbf0A"
      },
      "source": [
        "# Desbloqueio Safra"
      ]
    },
    {
      "cell_type": "code",
      "metadata": {
        "id": "AH3K9gECbOHj",
        "outputId": "ebcd8524-fa7a-4c6a-abe7-000bddf849da",
        "colab": {
          "base_uri": "https://localhost:8080/",
          "height": 78
        }
      },
      "source": [
        "desbloqueio_safra[\"Mes_Geracao\"] = desbloqueio_safra[\"DT_GERACAO_EMBOSSING\"].dt.month\n",
        "desbloqueio_safra = desbloqueio_safra.groupby(\"Mes_Geracao\")[[\"ID_CARTAO\"]].count()\n",
        "desbloqueio_safra.T"
      ],
      "execution_count": 54,
      "outputs": [
        {
          "output_type": "execute_result",
          "data": {
            "text/html": [
              "<div>\n",
              "<style scoped>\n",
              "    .dataframe tbody tr th:only-of-type {\n",
              "        vertical-align: middle;\n",
              "    }\n",
              "\n",
              "    .dataframe tbody tr th {\n",
              "        vertical-align: top;\n",
              "    }\n",
              "\n",
              "    .dataframe thead th {\n",
              "        text-align: right;\n",
              "    }\n",
              "</style>\n",
              "<table border=\"1\" class=\"dataframe\">\n",
              "  <thead>\n",
              "    <tr style=\"text-align: right;\">\n",
              "      <th>Mes_Geracao</th>\n",
              "      <th>1</th>\n",
              "      <th>2</th>\n",
              "      <th>3</th>\n",
              "      <th>4</th>\n",
              "      <th>5</th>\n",
              "      <th>6</th>\n",
              "      <th>7</th>\n",
              "      <th>8</th>\n",
              "      <th>9</th>\n",
              "      <th>10</th>\n",
              "      <th>11</th>\n",
              "      <th>12</th>\n",
              "    </tr>\n",
              "  </thead>\n",
              "  <tbody>\n",
              "    <tr>\n",
              "      <th>ID_CARTAO</th>\n",
              "      <td>40061</td>\n",
              "      <td>34332</td>\n",
              "      <td>37967</td>\n",
              "      <td>25148</td>\n",
              "      <td>25320</td>\n",
              "      <td>38933</td>\n",
              "      <td>30177</td>\n",
              "      <td>31586</td>\n",
              "      <td>28335</td>\n",
              "      <td>31542</td>\n",
              "      <td>33114</td>\n",
              "      <td>15028</td>\n",
              "    </tr>\n",
              "  </tbody>\n",
              "</table>\n",
              "</div>"
            ],
            "text/plain": [
              "Mes_Geracao     1      2      3      4   ...     9      10     11     12\n",
              "ID_CARTAO    40061  34332  37967  25148  ...  28335  31542  33114  15028\n",
              "\n",
              "[1 rows x 12 columns]"
            ]
          },
          "metadata": {
            "tags": []
          },
          "execution_count": 54
        }
      ]
    },
    {
      "cell_type": "markdown",
      "metadata": {
        "id": "ALgh-m5PbrG1"
      },
      "source": [
        "# Ativação Safra"
      ]
    },
    {
      "cell_type": "code",
      "metadata": {
        "id": "8ZUzqWDsbpsH",
        "outputId": "58df3229-7260-44a8-db76-9ba90c201b82",
        "colab": {
          "base_uri": "https://localhost:8080/",
          "height": 78
        }
      },
      "source": [
        "ativacao_safra[\"Mes_Geracao\"] = ativacao_safra[\"DT_GERACAO_EMBOSSING\"].dt.month\n",
        "ativacao_safra = ativacao_safra.groupby(\"Mes_Geracao\")[[\"ID_CARTAO\"]].count()\n",
        "ativacao_safra.T"
      ],
      "execution_count": 55,
      "outputs": [
        {
          "output_type": "execute_result",
          "data": {
            "text/html": [
              "<div>\n",
              "<style scoped>\n",
              "    .dataframe tbody tr th:only-of-type {\n",
              "        vertical-align: middle;\n",
              "    }\n",
              "\n",
              "    .dataframe tbody tr th {\n",
              "        vertical-align: top;\n",
              "    }\n",
              "\n",
              "    .dataframe thead th {\n",
              "        text-align: right;\n",
              "    }\n",
              "</style>\n",
              "<table border=\"1\" class=\"dataframe\">\n",
              "  <thead>\n",
              "    <tr style=\"text-align: right;\">\n",
              "      <th>Mes_Geracao</th>\n",
              "      <th>2</th>\n",
              "      <th>3</th>\n",
              "      <th>4</th>\n",
              "      <th>5</th>\n",
              "      <th>6</th>\n",
              "      <th>7</th>\n",
              "      <th>8</th>\n",
              "      <th>9</th>\n",
              "      <th>10</th>\n",
              "      <th>11</th>\n",
              "      <th>12</th>\n",
              "    </tr>\n",
              "  </thead>\n",
              "  <tbody>\n",
              "    <tr>\n",
              "      <th>ID_CARTAO</th>\n",
              "      <td>14289</td>\n",
              "      <td>30460</td>\n",
              "      <td>22589</td>\n",
              "      <td>23600</td>\n",
              "      <td>36494</td>\n",
              "      <td>27881</td>\n",
              "      <td>28743</td>\n",
              "      <td>25082</td>\n",
              "      <td>27535</td>\n",
              "      <td>27895</td>\n",
              "      <td>12466</td>\n",
              "    </tr>\n",
              "  </tbody>\n",
              "</table>\n",
              "</div>"
            ],
            "text/plain": [
              "Mes_Geracao     2      3      4      5   ...     9      10     11     12\n",
              "ID_CARTAO    14289  30460  22589  23600  ...  25082  27535  27895  12466\n",
              "\n",
              "[1 rows x 11 columns]"
            ]
          },
          "metadata": {
            "tags": []
          },
          "execution_count": 55
        }
      ]
    },
    {
      "cell_type": "markdown",
      "metadata": {
        "id": "3bgQMtqHb0Uk"
      },
      "source": [
        "# Comparativo \n",
        "\n",
        "Safra x Desbloqueio x Ativação"
      ]
    },
    {
      "cell_type": "code",
      "metadata": {
        "id": "uY-aLdFEbxvL",
        "outputId": "f107b147-8413-475f-f518-86a15ef96621",
        "colab": {
          "base_uri": "https://localhost:8080/",
          "height": 48
        }
      },
      "source": [
        "comparativo = safra.merge(desbloqueio_safra, how='inner', on='ID_CARTAO')\n",
        "comparativo"
      ],
      "execution_count": 56,
      "outputs": [
        {
          "output_type": "execute_result",
          "data": {
            "text/html": [
              "<div>\n",
              "<style scoped>\n",
              "    .dataframe tbody tr th:only-of-type {\n",
              "        vertical-align: middle;\n",
              "    }\n",
              "\n",
              "    .dataframe tbody tr th {\n",
              "        vertical-align: top;\n",
              "    }\n",
              "\n",
              "    .dataframe thead th {\n",
              "        text-align: right;\n",
              "    }\n",
              "</style>\n",
              "<table border=\"1\" class=\"dataframe\">\n",
              "  <thead>\n",
              "    <tr style=\"text-align: right;\">\n",
              "      <th></th>\n",
              "      <th>ID_CARTAO</th>\n",
              "    </tr>\n",
              "  </thead>\n",
              "  <tbody>\n",
              "  </tbody>\n",
              "</table>\n",
              "</div>"
            ],
            "text/plain": [
              "Empty DataFrame\n",
              "Columns: [ID_CARTAO]\n",
              "Index: []"
            ]
          },
          "metadata": {
            "tags": []
          },
          "execution_count": 56
        }
      ]
    },
    {
      "cell_type": "code",
      "metadata": {
        "id": "nsOkC7bGcR_B"
      },
      "source": [
        ""
      ],
      "execution_count": 56,
      "outputs": []
    }
  ]
}