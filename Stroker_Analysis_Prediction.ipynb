{
  "nbformat": 4,
  "nbformat_minor": 0,
  "metadata": {
    "colab": {
      "name": "Stroker Analysis_Prediction.ipynb",
      "provenance": [],
      "include_colab_link": true
    },
    "kernelspec": {
      "display_name": "Python 3",
      "language": "python",
      "name": "python3"
    },
    "language_info": {
      "codemirror_mode": {
        "name": "ipython",
        "version": 3
      },
      "file_extension": ".py",
      "mimetype": "text/x-python",
      "name": "python",
      "nbconvert_exporter": "python",
      "pygments_lexer": "ipython3",
      "version": "3.8.6"
    }
  },
  "cells": [
    {
      "cell_type": "markdown",
      "metadata": {
        "id": "view-in-github",
        "colab_type": "text"
      },
      "source": [
        "<a href=\"https://colab.research.google.com/github/FelipeGBarreto/alura-git/blob/master/Stroker_Analysis_Prediction.ipynb\" target=\"_parent\"><img src=\"https://colab.research.google.com/assets/colab-badge.svg\" alt=\"Open In Colab\"/></a>"
      ]
    },
    {
      "cell_type": "markdown",
      "metadata": {
        "id": "k62azDgMf5YT"
      },
      "source": [
        "# <font color=purple size=6 face=\"cursive\"><u>Dataset</u>  - <i><q>Stroker</q></i>\n",
        "- <font color=black size=3>Fonte: Kaggle"
      ]
    },
    {
      "cell_type": "markdown",
      "metadata": {
        "id": "LSv6Oba-f5Yb"
      },
      "source": [
        "#<font color=cian size=5 face=\"cursive\">Bibliotecas a serem utilizadas"
      ]
    },
    {
      "cell_type": "code",
      "metadata": {
        "id": "ynG5Gn2-KNkl"
      },
      "source": [
        "import pandas as pd\n",
        "import numpy as np\n",
        "import seaborn as sns\n",
        "import matplotlib.pyplot as plt\n",
        "import warnings\n",
        "warnings.filterwarnings('ignore')"
      ],
      "execution_count": 98,
      "outputs": []
    },
    {
      "cell_type": "markdown",
      "metadata": {
        "id": "GHdilM2qf5Yd"
      },
      "source": [
        "#<font color=cian size=5 face=\"cursive\">Conjunto de dados\n"
      ]
    },
    {
      "cell_type": "code",
      "metadata": {
        "colab": {
          "base_uri": "https://localhost:8080/",
          "height": 0
        },
        "id": "d3cNH0atf5Ye",
        "outputId": "78a5ada4-c8fc-4522-8db4-33d31d7304b5"
      },
      "source": [
        "df = pd.read_csv(\"healthcare-dataset-stroke-data.csv\")\n",
        "df = df.drop(columns=\"id\")\n",
        "\n",
        "df.head(3)"
      ],
      "execution_count": 99,
      "outputs": [
        {
          "output_type": "execute_result",
          "data": {
            "text/html": [
              "<div>\n",
              "<style scoped>\n",
              "    .dataframe tbody tr th:only-of-type {\n",
              "        vertical-align: middle;\n",
              "    }\n",
              "\n",
              "    .dataframe tbody tr th {\n",
              "        vertical-align: top;\n",
              "    }\n",
              "\n",
              "    .dataframe thead th {\n",
              "        text-align: right;\n",
              "    }\n",
              "</style>\n",
              "<table border=\"1\" class=\"dataframe\">\n",
              "  <thead>\n",
              "    <tr style=\"text-align: right;\">\n",
              "      <th></th>\n",
              "      <th>gender</th>\n",
              "      <th>age</th>\n",
              "      <th>hypertension</th>\n",
              "      <th>heart_disease</th>\n",
              "      <th>ever_married</th>\n",
              "      <th>work_type</th>\n",
              "      <th>Residence_type</th>\n",
              "      <th>avg_glucose_level</th>\n",
              "      <th>bmi</th>\n",
              "      <th>smoking_status</th>\n",
              "      <th>stroke</th>\n",
              "    </tr>\n",
              "  </thead>\n",
              "  <tbody>\n",
              "    <tr>\n",
              "      <th>0</th>\n",
              "      <td>Male</td>\n",
              "      <td>67.0</td>\n",
              "      <td>0</td>\n",
              "      <td>1</td>\n",
              "      <td>Yes</td>\n",
              "      <td>Private</td>\n",
              "      <td>Urban</td>\n",
              "      <td>228.69</td>\n",
              "      <td>36.6</td>\n",
              "      <td>formerly smoked</td>\n",
              "      <td>1</td>\n",
              "    </tr>\n",
              "    <tr>\n",
              "      <th>1</th>\n",
              "      <td>Female</td>\n",
              "      <td>61.0</td>\n",
              "      <td>0</td>\n",
              "      <td>0</td>\n",
              "      <td>Yes</td>\n",
              "      <td>Self-employed</td>\n",
              "      <td>Rural</td>\n",
              "      <td>202.21</td>\n",
              "      <td>NaN</td>\n",
              "      <td>never smoked</td>\n",
              "      <td>1</td>\n",
              "    </tr>\n",
              "    <tr>\n",
              "      <th>2</th>\n",
              "      <td>Male</td>\n",
              "      <td>80.0</td>\n",
              "      <td>0</td>\n",
              "      <td>1</td>\n",
              "      <td>Yes</td>\n",
              "      <td>Private</td>\n",
              "      <td>Rural</td>\n",
              "      <td>105.92</td>\n",
              "      <td>32.5</td>\n",
              "      <td>never smoked</td>\n",
              "      <td>1</td>\n",
              "    </tr>\n",
              "  </tbody>\n",
              "</table>\n",
              "</div>"
            ],
            "text/plain": [
              "   gender   age  hypertension  ...   bmi   smoking_status stroke\n",
              "0    Male  67.0             0  ...  36.6  formerly smoked      1\n",
              "1  Female  61.0             0  ...   NaN     never smoked      1\n",
              "2    Male  80.0             0  ...  32.5     never smoked      1\n",
              "\n",
              "[3 rows x 11 columns]"
            ]
          },
          "metadata": {
            "tags": []
          },
          "execution_count": 99
        }
      ]
    },
    {
      "cell_type": "markdown",
      "metadata": {
        "id": "q7_bUgblf5Yi"
      },
      "source": [
        "#<font color=cian size=5 face=\"cursive\">Atribuindo valores numéricos aos alfabéticos"
      ]
    },
    {
      "cell_type": "code",
      "metadata": {
        "colab": {
          "base_uri": "https://localhost:8080/"
        },
        "id": "Mykbogy0f5Yj",
        "outputId": "69e0b7d7-9722-4024-dd13-7d8ea7e428d1"
      },
      "source": [
        "for field in df.columns:\n",
        "    if np.dtype(df[field]) == 'object':\n",
        "        print(\"{} --> {}\".format(field,df[field].unique()))"
      ],
      "execution_count": 100,
      "outputs": [
        {
          "output_type": "stream",
          "text": [
            "gender --> ['Male' 'Female' 'Other']\n",
            "ever_married --> ['Yes' 'No']\n",
            "work_type --> ['Private' 'Self-employed' 'Govt_job' 'children' 'Never_worked']\n",
            "Residence_type --> ['Urban' 'Rural']\n",
            "smoking_status --> ['formerly smoked' 'never smoked' 'smokes' 'Unknown']\n"
          ],
          "name": "stdout"
        }
      ]
    },
    {
      "cell_type": "code",
      "metadata": {
        "id": "FZKrsF3TLGiM"
      },
      "source": [
        "df.gender = df.gender.map({'Male':1, 'Female':0})\n",
        "df.ever_married = df.ever_married.map({'Yes':1, 'No':0})\n",
        "df.Residence_type = df.Residence_type.map({'Urban':1, 'Rural':0})\n",
        "df.work_type = df.work_type.map({'Private':1, 'Self-employed':2,'Govt_job':3, \n",
        "                                 'children':4,'Never_worked':5})\n",
        "df.smoking_status = df.smoking_status.map({'formerly smoked':1, 'never smoked':2,\n",
        "                                           'smokes':3, 'Unknown':4})\n",
        "\n",
        "df=df.query(\"gender==1 or gender==0\") # Retirei uma única linha que não havia identificação de gênero (sem representatividade)\n",
        "df.gender = df.gender.astype('int32')"
      ],
      "execution_count": 101,
      "outputs": []
    },
    {
      "cell_type": "markdown",
      "metadata": {
        "id": "8aXtTAAIf5Yl"
      },
      "source": [
        "#<font color=cian size=5 face=\"cursive\">Verificando se há valores em branco e subistituindo pela média dos valores\n",
        "- <font color=black size=3>Campo 'bmi'"
      ]
    },
    {
      "cell_type": "code",
      "metadata": {
        "colab": {
          "base_uri": "https://localhost:8080/"
        },
        "id": "9rEqUwK0f5Ym",
        "outputId": "b69822fc-2b51-4be1-802c-cf7ad43958cc"
      },
      "source": [
        "def preencher_nan (data_frame, campo):\n",
        "    data_frame[campo] = data_frame[campo].fillna(data_frame[campo].mean())\n",
        "    \n",
        "preencher_nan(df,\"bmi\")\n",
        "df.info()"
      ],
      "execution_count": 102,
      "outputs": [
        {
          "output_type": "stream",
          "text": [
            "<class 'pandas.core.frame.DataFrame'>\n",
            "Int64Index: 5109 entries, 0 to 5109\n",
            "Data columns (total 11 columns):\n",
            " #   Column             Non-Null Count  Dtype  \n",
            "---  ------             --------------  -----  \n",
            " 0   gender             5109 non-null   int32  \n",
            " 1   age                5109 non-null   float64\n",
            " 2   hypertension       5109 non-null   int64  \n",
            " 3   heart_disease      5109 non-null   int64  \n",
            " 4   ever_married       5109 non-null   int64  \n",
            " 5   work_type          5109 non-null   int64  \n",
            " 6   Residence_type     5109 non-null   int64  \n",
            " 7   avg_glucose_level  5109 non-null   float64\n",
            " 8   bmi                5109 non-null   float64\n",
            " 9   smoking_status     5109 non-null   int64  \n",
            " 10  stroke             5109 non-null   int64  \n",
            "dtypes: float64(3), int32(1), int64(7)\n",
            "memory usage: 459.0 KB\n"
          ],
          "name": "stdout"
        }
      ]
    },
    {
      "cell_type": "markdown",
      "metadata": {
        "id": "BFpemkqgL8Qj"
      },
      "source": [
        "#<font color=cian size=5 face=cursive>Análise dos dados"
      ]
    },
    {
      "cell_type": "markdown",
      "metadata": {
        "id": "R88mqDDQf5Yn"
      },
      "source": [
        "<font color=darkgreen size=4 face=cursive>Quais variáveis estão mais relacionadas com derrames cerebrais?"
      ]
    },
    {
      "cell_type": "code",
      "metadata": {
        "colab": {
          "base_uri": "https://localhost:8080/",
          "height": 96
        },
        "id": "dbS-GYGmf5Yn",
        "outputId": "09959184-595d-45fc-cf31-919eaa709868"
      },
      "source": [
        "print(\"Correlação entre quem teve derrame e as demais variáveis:\")\n",
        "df.corr()[-1:]"
      ],
      "execution_count": 103,
      "outputs": [
        {
          "output_type": "stream",
          "text": [
            "Correlação entre quem teve derrame e as demais variáveis:\n"
          ],
          "name": "stdout"
        },
        {
          "output_type": "execute_result",
          "data": {
            "text/html": [
              "<div>\n",
              "<style scoped>\n",
              "    .dataframe tbody tr th:only-of-type {\n",
              "        vertical-align: middle;\n",
              "    }\n",
              "\n",
              "    .dataframe tbody tr th {\n",
              "        vertical-align: top;\n",
              "    }\n",
              "\n",
              "    .dataframe thead th {\n",
              "        text-align: right;\n",
              "    }\n",
              "</style>\n",
              "<table border=\"1\" class=\"dataframe\">\n",
              "  <thead>\n",
              "    <tr style=\"text-align: right;\">\n",
              "      <th></th>\n",
              "      <th>gender</th>\n",
              "      <th>age</th>\n",
              "      <th>hypertension</th>\n",
              "      <th>heart_disease</th>\n",
              "      <th>ever_married</th>\n",
              "      <th>work_type</th>\n",
              "      <th>Residence_type</th>\n",
              "      <th>avg_glucose_level</th>\n",
              "      <th>bmi</th>\n",
              "      <th>smoking_status</th>\n",
              "      <th>stroke</th>\n",
              "    </tr>\n",
              "  </thead>\n",
              "  <tbody>\n",
              "    <tr>\n",
              "      <th>stroke</th>\n",
              "      <td>0.009081</td>\n",
              "      <td>0.245239</td>\n",
              "      <td>0.127891</td>\n",
              "      <td>0.134905</td>\n",
              "      <td>0.108299</td>\n",
              "      <td>-0.058261</td>\n",
              "      <td>0.015415</td>\n",
              "      <td>0.131991</td>\n",
              "      <td>0.038917</td>\n",
              "      <td>-0.066471</td>\n",
              "      <td>1.0</td>\n",
              "    </tr>\n",
              "  </tbody>\n",
              "</table>\n",
              "</div>"
            ],
            "text/plain": [
              "          gender       age  hypertension  ...       bmi  smoking_status  stroke\n",
              "stroke  0.009081  0.245239      0.127891  ...  0.038917       -0.066471     1.0\n",
              "\n",
              "[1 rows x 11 columns]"
            ]
          },
          "metadata": {
            "tags": []
          },
          "execution_count": 103
        }
      ]
    },
    {
      "cell_type": "code",
      "metadata": {
        "colab": {
          "base_uri": "https://localhost:8080/",
          "height": 180
        },
        "id": "NQRb3hK_LbH7",
        "outputId": "4c5b6b80-3132-47c3-bfac-6a0b67b517c7"
      },
      "source": [
        "sns.pairplot(data=df,y_vars='stroke')"
      ],
      "execution_count": 104,
      "outputs": [
        {
          "output_type": "execute_result",
          "data": {
            "text/plain": [
              "<seaborn.axisgrid.PairGrid at 0x7f2523aeb190>"
            ]
          },
          "metadata": {
            "tags": []
          },
          "execution_count": 104
        },
        {
          "output_type": "display_data",
          "data": {
            "image/png": "[encoded data removed]",
            "text/plain": [
              "<Figure size 1980x180 with 12 Axes>"
            ]
          },
          "metadata": {
            "tags": [],
            "needs_background": "light"
          }
        }
      ]
    },
    {
      "cell_type": "markdown",
      "metadata": {
        "id": "WqYLDMveoHb6"
      },
      "source": [
        "<font color= gray size=4 face=cursive>\n",
        "\n",
        "*   Há cinco variáveis que mais chamam a atenção, as quais mostram uma corelação com a variável derrame, são elas:\n",
        "  - age;\n",
        "  - heart_disease;\n",
        "  - avg_glucose_level;\n",
        "  - hypertension;\n",
        "  - ever_married.\n"
      ]
    },
    {
      "cell_type": "code",
      "metadata": {
        "colab": {
          "base_uri": "https://localhost:8080/",
          "height": 78
        },
        "id": "tOYWfx4oAKdE",
        "outputId": "378c9fd6-15a6-43b0-beef-df09fb993ac8"
      },
      "source": [
        "df[[\"stroke\",\"age\",\"heart_disease\",\"avg_glucose_level\",\"hypertension\",\"ever_married\"]].corr()[-1:]"
      ],
      "execution_count": 119,
      "outputs": [
        {
          "output_type": "execute_result",
          "data": {
            "text/html": [
              "<div>\n",
              "<style scoped>\n",
              "    .dataframe tbody tr th:only-of-type {\n",
              "        vertical-align: middle;\n",
              "    }\n",
              "\n",
              "    .dataframe tbody tr th {\n",
              "        vertical-align: top;\n",
              "    }\n",
              "\n",
              "    .dataframe thead th {\n",
              "        text-align: right;\n",
              "    }\n",
              "</style>\n",
              "<table border=\"1\" class=\"dataframe\">\n",
              "  <thead>\n",
              "    <tr style=\"text-align: right;\">\n",
              "      <th></th>\n",
              "      <th>stroke</th>\n",
              "      <th>age</th>\n",
              "      <th>heart_disease</th>\n",
              "      <th>avg_glucose_level</th>\n",
              "      <th>hypertension</th>\n",
              "      <th>ever_married</th>\n",
              "    </tr>\n",
              "  </thead>\n",
              "  <tbody>\n",
              "    <tr>\n",
              "      <th>ever_married</th>\n",
              "      <td>0.108299</td>\n",
              "      <td>0.679084</td>\n",
              "      <td>0.114601</td>\n",
              "      <td>0.155329</td>\n",
              "      <td>0.164187</td>\n",
              "      <td>1.0</td>\n",
              "    </tr>\n",
              "  </tbody>\n",
              "</table>\n",
              "</div>"
            ],
            "text/plain": [
              "                stroke       age  ...  hypertension  ever_married\n",
              "ever_married  0.108299  0.679084  ...      0.164187           1.0\n",
              "\n",
              "[1 rows x 6 columns]"
            ]
          },
          "metadata": {
            "tags": []
          },
          "execution_count": 119
        }
      ]
    },
    {
      "cell_type": "markdown",
      "metadata": {
        "id": "bpYMTflif5Yo"
      },
      "source": [
        "Classes de idade:\n",
        "\n",
        "    ► A: 0  - 20 anos\n",
        "    ► B: 21 - 35 anos\n",
        "    ► C: 36 - 50 anos\n",
        "    ► D: 51 - 65 anos\n",
        "    ► E: 66 - 82 anos"
      ]
    },
    {
      "cell_type": "code",
      "metadata": {
        "colab": {
          "base_uri": "https://localhost:8080/",
          "height": 271
        },
        "id": "VvQbBY1Sf5Yp",
        "outputId": "b45443a4-fbd3-4bac-dd5e-6f34f9acee96"
      },
      "source": [
        "classes = [0, 20, 35, 50, 65, 82]\n",
        "labels = [\"00-20\",\"21-35\",\"36-50\",\"51-65\",\"66-82\"]\n",
        "\n",
        "classificando_age = pd.cut(x = df_stroke.age,bins = classes,labels = labels,include_lowest = True)\n",
        "\n",
        "freq_age = pd.value_counts(classificando_age).sort_index()\n",
        "freq_age_perct = pd.value_counts(classificando_age, normalize=True).sort_index()\n",
        "\n",
        "print(f\"Total de Pessoas entrevistadas: {df.gender.count()}\")\n",
        "print(f\"Total de Pessoas da amostra que tiveram AVC: {df_stroke.gender.count()}\\n\")\n",
        "\n",
        "dist_freq_age = pd.DataFrame({\"freq\":freq_age,\"Perct (%)\": 100*freq_age_perct.round(3)})\n",
        "\n",
        "print(\"Percentual de pessoas que tiveram derrame de acordo com a idade:\")\n",
        "dist_freq_age.columns.name = \"Classes de Idade\"\n",
        "\n",
        "dist_freq_age"
      ],
      "execution_count": 106,
      "outputs": [
        {
          "output_type": "stream",
          "text": [
            "Total de Pessoas entrevistadas: 5109\n",
            "Total de Pessoas da amostra que tiveram AVC: 249\n",
            "\n",
            "Percentual de pessoas que tiveram derrame de acordo com a idade:\n"
          ],
          "name": "stdout"
        },
        {
          "output_type": "execute_result",
          "data": {
            "text/html": [
              "<div>\n",
              "<style scoped>\n",
              "    .dataframe tbody tr th:only-of-type {\n",
              "        vertical-align: middle;\n",
              "    }\n",
              "\n",
              "    .dataframe tbody tr th {\n",
              "        vertical-align: top;\n",
              "    }\n",
              "\n",
              "    .dataframe thead th {\n",
              "        text-align: right;\n",
              "    }\n",
              "</style>\n",
              "<table border=\"1\" class=\"dataframe\">\n",
              "  <thead>\n",
              "    <tr style=\"text-align: right;\">\n",
              "      <th>Classes de Idade</th>\n",
              "      <th>freq</th>\n",
              "      <th>Perct (%)</th>\n",
              "    </tr>\n",
              "  </thead>\n",
              "  <tbody>\n",
              "    <tr>\n",
              "      <th>00-20</th>\n",
              "      <td>2</td>\n",
              "      <td>0.8</td>\n",
              "    </tr>\n",
              "    <tr>\n",
              "      <th>21-35</th>\n",
              "      <td>1</td>\n",
              "      <td>0.4</td>\n",
              "    </tr>\n",
              "    <tr>\n",
              "      <th>36-50</th>\n",
              "      <td>20</td>\n",
              "      <td>8.0</td>\n",
              "    </tr>\n",
              "    <tr>\n",
              "      <th>51-65</th>\n",
              "      <td>70</td>\n",
              "      <td>28.1</td>\n",
              "    </tr>\n",
              "    <tr>\n",
              "      <th>66-82</th>\n",
              "      <td>156</td>\n",
              "      <td>62.7</td>\n",
              "    </tr>\n",
              "  </tbody>\n",
              "</table>\n",
              "</div>"
            ],
            "text/plain": [
              "Classes de Idade  freq  Perct (%)\n",
              "00-20                2        0.8\n",
              "21-35                1        0.4\n",
              "36-50               20        8.0\n",
              "51-65               70       28.1\n",
              "66-82              156       62.7"
            ]
          },
          "metadata": {
            "tags": []
          },
          "execution_count": 106
        }
      ]
    },
    {
      "cell_type": "markdown",
      "metadata": {
        "id": "ZfhTYSVAU70e"
      },
      "source": [
        "<font color=green size=4 face=cursiva>Constatando através de gráficos"
      ]
    },
    {
      "cell_type": "code",
      "metadata": {
        "id": "1zooiH13f5Yq"
      },
      "source": [
        "df[\"age_class\"]=classificando_age\n",
        "df_stroke[\"age_class\"]=classificando_age"
      ],
      "execution_count": 107,
      "outputs": []
    },
    {
      "cell_type": "code",
      "metadata": {
        "colab": {
          "base_uri": "https://localhost:8080/",
          "height": 284
        },
        "id": "q8Uw6LnBf5Yr",
        "outputId": "019afb19-c175-437d-8a80-e88ef94c25ba"
      },
      "source": [
        "dist_freq_age.plot.bar(width=0.9, alpha=0.3, align='center');"
      ],
      "execution_count": 108,
      "outputs": [
        {
          "output_type": "display_data",
          "data": {
            "image/png": "[encoded data removed]",
            "text/plain": [
              "<Figure size 432x288 with 1 Axes>"
            ]
          },
          "metadata": {
            "tags": [],
            "needs_background": "light"
          }
        }
      ]
    },
    {
      "cell_type": "code",
      "metadata": {
        "colab": {
          "base_uri": "https://localhost:8080/",
          "height": 279
        },
        "id": "gYSuQLNIf5Ys",
        "outputId": "32d44b80-4e59-431b-e038-3de2dcb07472"
      },
      "source": [
        "sns.boxplot(df_stroke.age);"
      ],
      "execution_count": 109,
      "outputs": [
        {
          "output_type": "display_data",
          "data": {
            "image/png": "[encoded data removed]",
            "text/plain": [
              "<Figure size 432x288 with 1 Axes>"
            ]
          },
          "metadata": {
            "tags": [],
            "needs_background": "light"
          }
        }
      ]
    },
    {
      "cell_type": "markdown",
      "metadata": {
        "id": "8XC4lVRzf5Ys"
      },
      "source": [
        "Da amostra, tomando somente aquelas pessoas que já sofreram derrame em algum momento da vida, temos:\n",
        "- Pessoas com idade superior a 59 anos que tiveram derrame é três vezes o número de pessoas com idade abaixo de 59 anos."
      ]
    },
    {
      "cell_type": "code",
      "metadata": {
        "colab": {
          "base_uri": "https://localhost:8080/",
          "height": 297
        },
        "id": "hSJzBkWLf5Yt",
        "outputId": "da0ccb2c-6899-4e1f-eeea-b01f143301ef"
      },
      "source": [
        "sns.boxplot(x='age', y='heart_disease',data=df_stroke, orient='h', hue='gender')"
      ],
      "execution_count": 110,
      "outputs": [
        {
          "output_type": "execute_result",
          "data": {
            "text/plain": [
              "<matplotlib.axes._subplots.AxesSubplot at 0x7f2523463950>"
            ]
          },
          "metadata": {
            "tags": []
          },
          "execution_count": 110
        },
        {
          "output_type": "display_data",
          "data": {
            "image/png": "[encoded data removed]",
            "text/plain": [
              "<Figure size 432x288 with 1 Axes>"
            ]
          },
          "metadata": {
            "tags": [],
            "needs_background": "light"
          }
        }
      ]
    },
    {
      "cell_type": "markdown",
      "metadata": {
        "id": "9e_FAjA3f5Yt"
      },
      "source": [
        "### Histograma de idade de pessoas entrevistadas"
      ]
    },
    {
      "cell_type": "code",
      "metadata": {
        "colab": {
          "base_uri": "https://localhost:8080/",
          "height": 297
        },
        "id": "oyGhHF2xf5Yu",
        "outputId": "4147e7ae-8a30-4aff-9e03-abb742346226"
      },
      "source": [
        "sns.histplot(df.age)"
      ],
      "execution_count": 111,
      "outputs": [
        {
          "output_type": "execute_result",
          "data": {
            "text/plain": [
              "<matplotlib.axes._subplots.AxesSubplot at 0x7f25233d5690>"
            ]
          },
          "metadata": {
            "tags": []
          },
          "execution_count": 111
        },
        {
          "output_type": "display_data",
          "data": {
            "image/png": "[encoded data removed]",
            "text/plain": [
              "<Figure size 432x288 with 1 Axes>"
            ]
          },
          "metadata": {
            "tags": [],
            "needs_background": "light"
          }
        }
      ]
    },
    {
      "cell_type": "markdown",
      "metadata": {
        "id": "JfUbs3WUf5Yv"
      },
      "source": [
        "### Histograma de pessoas entrevistadas que sofreram derrame"
      ]
    },
    {
      "cell_type": "code",
      "metadata": {
        "colab": {
          "base_uri": "https://localhost:8080/",
          "height": 297
        },
        "id": "RllnKJoSf5Yw",
        "outputId": "0bf81e50-7b23-4f8b-8d7f-d36eda1d5dd6"
      },
      "source": [
        "sns.histplot(df_stroke.age)"
      ],
      "execution_count": 112,
      "outputs": [
        {
          "output_type": "execute_result",
          "data": {
            "text/plain": [
              "<matplotlib.axes._subplots.AxesSubplot at 0x7f25232e8a10>"
            ]
          },
          "metadata": {
            "tags": []
          },
          "execution_count": 112
        },
        {
          "output_type": "display_data",
          "data": {
            "image/png": "[encoded data removed]",
            "text/plain": [
              "<Figure size 432x288 with 1 Axes>"
            ]
          },
          "metadata": {
            "tags": [],
            "needs_background": "light"
          }
        }
      ]
    },
    {
      "cell_type": "code",
      "metadata": {
        "colab": {
          "base_uri": "https://localhost:8080/",
          "height": 390
        },
        "id": "eDqVt2Mtf5Yw",
        "outputId": "c277bd8c-07f1-417b-ab19-1baf559da80b"
      },
      "source": [
        "df_stroke.hist(bins=20, figsize=(15, 6), color='yellow');"
      ],
      "execution_count": 113,
      "outputs": [
        {
          "output_type": "display_data",
          "data": {
            "image/png": "[encoded data removed]",
            "text/plain": [
              "<Figure size 1080x432 with 12 Axes>"
            ]
          },
          "metadata": {
            "tags": [],
            "needs_background": "light"
          }
        }
      ]
    },
    {
      "cell_type": "markdown",
      "metadata": {
        "id": "Mlq7DK1Bf5Yx"
      },
      "source": [
        "<a>palavra</a>\n",
        "<b>palavra</b>\n",
        "<i>palavra</i>\n",
        "<q>palavra</q>\n",
        "<s>palavra</s>\n",
        "<u>palavra</u>"
      ]
    },
    {
      "cell_type": "markdown",
      "metadata": {
        "id": "rkeojL4Bf5Yx"
      },
      "source": [
        "<font size=4 color=red face=\"cursive\"><b>palavra"
      ]
    },
    {
      "cell_type": "code",
      "metadata": {
        "colab": {
          "base_uri": "https://localhost:8080/",
          "height": 378
        },
        "id": "z3FEG9ZEf5Yx",
        "outputId": "640cc1d3-4ba1-49b6-9e05-8a65b42c695c"
      },
      "source": [
        "df_stroke.groupby([\"gender\",\"age_class\"])[[\"gender\"]].count()"
      ],
      "execution_count": 114,
      "outputs": [
        {
          "output_type": "execute_result",
          "data": {
            "text/html": [
              "<div>\n",
              "<style scoped>\n",
              "    .dataframe tbody tr th:only-of-type {\n",
              "        vertical-align: middle;\n",
              "    }\n",
              "\n",
              "    .dataframe tbody tr th {\n",
              "        vertical-align: top;\n",
              "    }\n",
              "\n",
              "    .dataframe thead th {\n",
              "        text-align: right;\n",
              "    }\n",
              "</style>\n",
              "<table border=\"1\" class=\"dataframe\">\n",
              "  <thead>\n",
              "    <tr style=\"text-align: right;\">\n",
              "      <th></th>\n",
              "      <th></th>\n",
              "      <th>gender</th>\n",
              "    </tr>\n",
              "    <tr>\n",
              "      <th>gender</th>\n",
              "      <th>age_class</th>\n",
              "      <th></th>\n",
              "    </tr>\n",
              "  </thead>\n",
              "  <tbody>\n",
              "    <tr>\n",
              "      <th rowspan=\"5\" valign=\"top\">0</th>\n",
              "      <th>00-20</th>\n",
              "      <td>2.0</td>\n",
              "    </tr>\n",
              "    <tr>\n",
              "      <th>21-35</th>\n",
              "      <td>1.0</td>\n",
              "    </tr>\n",
              "    <tr>\n",
              "      <th>36-50</th>\n",
              "      <td>14.0</td>\n",
              "    </tr>\n",
              "    <tr>\n",
              "      <th>51-65</th>\n",
              "      <td>33.0</td>\n",
              "    </tr>\n",
              "    <tr>\n",
              "      <th>66-82</th>\n",
              "      <td>91.0</td>\n",
              "    </tr>\n",
              "    <tr>\n",
              "      <th rowspan=\"5\" valign=\"top\">1</th>\n",
              "      <th>00-20</th>\n",
              "      <td>NaN</td>\n",
              "    </tr>\n",
              "    <tr>\n",
              "      <th>21-35</th>\n",
              "      <td>NaN</td>\n",
              "    </tr>\n",
              "    <tr>\n",
              "      <th>36-50</th>\n",
              "      <td>6.0</td>\n",
              "    </tr>\n",
              "    <tr>\n",
              "      <th>51-65</th>\n",
              "      <td>37.0</td>\n",
              "    </tr>\n",
              "    <tr>\n",
              "      <th>66-82</th>\n",
              "      <td>65.0</td>\n",
              "    </tr>\n",
              "  </tbody>\n",
              "</table>\n",
              "</div>"
            ],
            "text/plain": [
              "                  gender\n",
              "gender age_class        \n",
              "0      00-20         2.0\n",
              "       21-35         1.0\n",
              "       36-50        14.0\n",
              "       51-65        33.0\n",
              "       66-82        91.0\n",
              "1      00-20         NaN\n",
              "       21-35         NaN\n",
              "       36-50         6.0\n",
              "       51-65        37.0\n",
              "       66-82        65.0"
            ]
          },
          "metadata": {
            "tags": []
          },
          "execution_count": 114
        }
      ]
    },
    {
      "cell_type": "markdown",
      "metadata": {
        "id": "BEXPWyBnf5Yy"
      },
      "source": [
        "<font color=cian size=4 face=cursive><b>Previsão com análise regressiva"
      ]
    },
    {
      "cell_type": "code",
      "metadata": {
        "id": "7f7nrj-kf5Yy"
      },
      "source": [
        ""
      ],
      "execution_count": 114,
      "outputs": []
    }
  ]
}