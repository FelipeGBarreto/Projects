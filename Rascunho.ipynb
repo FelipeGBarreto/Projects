{
  "nbformat": 4,
  "nbformat_minor": 0,
  "metadata": {
    "colab": {
      "name": "Rascunho.ipynb",
      "provenance": [],
      "collapsed_sections": [],
      "mount_file_id": "1sx0QPXDyNPz66olVu5Carcg_b-Lg6SLy",
      "authorship_tag": "ABX9TyO48FbafLz3Z2tyQTw5uI6j",
      "include_colab_link": true
    },
    "kernelspec": {
      "name": "python3",
      "display_name": "Python 3"
    }
  },
  "cells": [
    {
      "cell_type": "markdown",
      "metadata": {
        "id": "view-in-github",
        "colab_type": "text"
      },
      "source": [
        "<a href=\"https://colab.research.google.com/github/FelipeGBarreto/Projects/blob/master/Rascunho.ipynb\" target=\"_parent\"><img src=\"https://colab.research.google.com/assets/colab-badge.svg\" alt=\"Open In Colab\"/></a>"
      ]
    },
    {
      "cell_type": "markdown",
      "metadata": {
        "id": "c3s-h5QxU3SD"
      },
      "source": [
        "# CASE – ANALISTA DE BUSINESS INTELLIGENCE:\n",
        "\n",
        "A Fortbrasil tem como um dos seus maiores desafios a entrega de cartões na casa dos nossos clientes, visto que existem área de difícil acesso, outras que apenas o Correios opera, dentre outros. Tendo isso em vista, começamos a diversificar os modais de entrega dos cartões emitidos.\n",
        "\n",
        "*O case consiste em criar um painel de acompanhamento dos cartões emitidos pela\n",
        "empresa, e para isso estão sendo enviadas 05 bases:*\n",
        "\n",
        "1. **“T_CARTÃO”:** Todos os cartões emitidos;\n",
        "2. **“T_DESBLOQUEIO”:** Indica se o cliente desbloqueou o cartão, considerar apenas o primeiro\n",
        "desbloqueio de cada ID_CARTÃO;\n",
        "3. **“T_MODAIS”:** Indica por qual modal o cartão foi enviado e a data;\n",
        "4. **“T_CANAL_DESBLOQUEIO”:** Registro de por onde foi feito o desbloqueio do cartão, caso não exista nenhum registro de desbloqueio nessa tabela, significa que ele foi feito via “Central de Atendimento”\n",
        "5. **“T_COMPRAS”:** Registro de compras efetuadas em 2020, assim como seu status.\n",
        "***\n",
        "\n",
        "\n",
        "***Pede-se para:***\n",
        "\n",
        "- Calcular o desbloqueio por safra (mês de emissão) dos cartões de 2020 – acompanhamento\n",
        "acumulado por 90 dias desde a data de emissão;\n",
        "- Calcular a ativação (primeira compra) por safra de emissão dos cartões de 2020 -\n",
        "acompanhamento acumulado por 90 dias desde a data de envio;\n",
        "- Analisar a efetividade de entrega (podendo ser medida pelo desbloqueio) e sugerir\n",
        "melhorias;\n",
        "- Analisar a performance de ativação e sugerir melhorias;\n",
        "\n",
        "**OBS1:** devem ser considerados cartões válidos apenas os que não começam por ‘9099’ e que tem validade maior que 30 dias.\n",
        "\n",
        "**OBS2:** use com inteligência as informações ofertadas para gerar um dashboard claro, gerencial e que possa ser usado para tomada de decisões. Gostamos de filtros que facilitem nossas análises.\n",
        "\n",
        "**OBS3:** segue abaixo o exemplo de gráfico de desbloqueio/ativação acumulada X tempo que pode servir de base.\n",
        "\n",
        "***\n",
        "\n",
        "Toda a visualização final deve ser feita em Power BI. Caso precise fazer algum ETL em ferramenta diferente dele, enviar os scripts. É importante que seja enviado junto com o arquivo em Power BI e os scripts (se houverem), uma breve explicação sobre a lógica utilizada e os resultados obtidos.\n",
        "\n"
      ]
    },
    {
      "cell_type": "markdown",
      "metadata": {
        "id": "JYrcA7Z8ULkO"
      },
      "source": [
        "# Importando as Bibliotecas Necessárias"
      ]
    },
    {
      "cell_type": "code",
      "metadata": {
        "id": "0A36dag_Oeqe"
      },
      "source": [
        "import pandas as pd\n",
        "import numpy as np\n",
        "import datetime"
      ],
      "execution_count": 1,
      "outputs": []
    },
    {
      "cell_type": "markdown",
      "metadata": {
        "id": "n7JJ9NAJUP6V"
      },
      "source": [
        "# Conhecendo os Dados"
      ]
    },
    {
      "cell_type": "markdown",
      "metadata": {
        "id": "vyLXW1uWaQ40"
      },
      "source": [
        "Conhecendo os dados e veridicando se há valores faltantes, bem como se há valores repetidos, com o fito de um melhor tratamento e precisão dos dados."
      ]
    },
    {
      "cell_type": "code",
      "metadata": {
        "colab": {
          "base_uri": "https://localhost:8080/"
        },
        "id": "8qAonwgKPBUQ",
        "outputId": "18069af0-fae2-41fa-b77c-14e282a112db"
      },
      "source": [
        "df_cartao = pd.read_csv(\"/content/drive/MyDrive/Emprego/Case Analista 2021 - V2/T_CARTAO.csv\", sep=';')\n",
        "df_desbloqueio = pd.read_excel(\"/content/drive/MyDrive/Emprego/Case Analista 2021 - V2/T_DESBLOQUEIO.xlsx\")\n",
        "df_modal = pd.read_excel(\"/content/drive/MyDrive/Emprego/Case Analista 2021 - V2/T_MODAIS.xlsx\")\n",
        "df_canal_desbloq = pd.read_csv(\"/content/drive/MyDrive/Emprego/Case Analista 2021 - V2/T_CANAL_DESBLOQUEIO.csv\", sep=';')\n",
        "df_compras = pd.read_csv(\"/content/drive/MyDrive/Emprego/Case Analista 2021 - V2/T_COMPRA.csv\", sep=';')"
      ],
      "execution_count": 2,
      "outputs": [
        {
          "output_type": "stream",
          "text": [
            "/usr/local/lib/python3.7/dist-packages/IPython/core/interactiveshell.py:2718: DtypeWarning: Columns (4) have mixed types.Specify dtype option on import or set low_memory=False.\n",
            "  interactivity=interactivity, compiler=compiler, result=result)\n"
          ],
          "name": "stderr"
        }
      ]
    },
    {
      "cell_type": "code",
      "metadata": {
        "id": "gRgH2KisWSLw"
      },
      "source": [
        "t_cartao = df_cartao.copy()\n",
        "t_desbloqueio = df_desbloqueio.copy()\n",
        "t_modal = df_modal.copy()\n",
        "t_canal_desbloq = df_canal_desbloq.copy()\n",
        "t_compras = df_compras.copy()"
      ],
      "execution_count": 34,
      "outputs": []
    },
    {
      "cell_type": "markdown",
      "metadata": {
        "id": "xWXFtbREizFA"
      },
      "source": [
        "# Tratativa dos Dados"
      ]
    },
    {
      "cell_type": "code",
      "metadata": {
        "id": "d03LCpiNFGI1"
      },
      "source": [
        "def retirar_hr_datas(data,campo):\n",
        "  data[campo] = data[campo].astype(str)\n",
        "  separa_data = data[campo].str.split(\" \", n = 1, expand = True)\n",
        "  data[campo] = separa_data[0]\n",
        "  data[campo] = pd.to_datetime(data[campo])"
      ],
      "execution_count": 35,
      "outputs": []
    },
    {
      "cell_type": "code",
      "metadata": {
        "id": "f6fjh5ppFK2A"
      },
      "source": [
        "retirar_hr_datas(t_cartao,\"DT_GERACAO_EMBOSSING\")\n",
        "retirar_hr_datas(t_cartao,\"DT_VALIDADE\")\n"
      ],
      "execution_count": 36,
      "outputs": []
    },
    {
      "cell_type": "code",
      "metadata": {
        "colab": {
          "base_uri": "https://localhost:8080/",
          "height": 72
        },
        "id": "holdJEQaUQm_",
        "outputId": "bab7cab7-5465-42c8-9d26-68792528510f"
      },
      "source": [
        "display(t_compras.shape, t_desbloqueio.shape,t_cartao.shape)"
      ],
      "execution_count": 37,
      "outputs": [
        {
          "output_type": "display_data",
          "data": {
            "text/plain": [
              "(5823678, 4)"
            ]
          },
          "metadata": {
            "tags": []
          }
        },
        {
          "output_type": "display_data",
          "data": {
            "text/plain": [
              "(386373, 2)"
            ]
          },
          "metadata": {
            "tags": []
          }
        },
        {
          "output_type": "display_data",
          "data": {
            "text/plain": [
              "(973234, 6)"
            ]
          },
          "metadata": {
            "tags": []
          }
        }
      ]
    },
    {
      "cell_type": "code",
      "metadata": {
        "colab": {
          "base_uri": "https://localhost:8080/",
          "height": 290
        },
        "id": "z2pbxcf5U5Pz",
        "outputId": "7f59afbd-e6c7-4126-835c-c23ff24dfb4d"
      },
      "source": [
        "display(t_compras.sample(2), t_desbloqueio.sample(2),t_cartao.sample(2))"
      ],
      "execution_count": 38,
      "outputs": [
        {
          "output_type": "display_data",
          "data": {
            "text/html": [
              "<div>\n",
              "<style scoped>\n",
              "    .dataframe tbody tr th:only-of-type {\n",
              "        vertical-align: middle;\n",
              "    }\n",
              "\n",
              "    .dataframe tbody tr th {\n",
              "        vertical-align: top;\n",
              "    }\n",
              "\n",
              "    .dataframe thead th {\n",
              "        text-align: right;\n",
              "    }\n",
              "</style>\n",
              "<table border=\"1\" class=\"dataframe\">\n",
              "  <thead>\n",
              "    <tr style=\"text-align: right;\">\n",
              "      <th></th>\n",
              "      <th>ID_CONTA</th>\n",
              "      <th>ID_CARTAO</th>\n",
              "      <th>DS_STATUS</th>\n",
              "      <th>DT_COMPRA</th>\n",
              "    </tr>\n",
              "  </thead>\n",
              "  <tbody>\n",
              "    <tr>\n",
              "      <th>4974325</th>\n",
              "      <td>546975</td>\n",
              "      <td>4721573</td>\n",
              "      <td>Processada</td>\n",
              "      <td>2021-01-10 10:10:00</td>\n",
              "    </tr>\n",
              "    <tr>\n",
              "      <th>1009458</th>\n",
              "      <td>1664015</td>\n",
              "      <td>4186331</td>\n",
              "      <td>Processada</td>\n",
              "      <td>2020-07-27 10:28:00</td>\n",
              "    </tr>\n",
              "  </tbody>\n",
              "</table>\n",
              "</div>"
            ],
            "text/plain": [
              "         ID_CONTA  ID_CARTAO   DS_STATUS            DT_COMPRA\n",
              "4974325    546975    4721573  Processada  2021-01-10 10:10:00\n",
              "1009458   1664015    4186331  Processada  2020-07-27 10:28:00"
            ]
          },
          "metadata": {
            "tags": []
          }
        },
        {
          "output_type": "display_data",
          "data": {
            "text/html": [
              "<div>\n",
              "<style scoped>\n",
              "    .dataframe tbody tr th:only-of-type {\n",
              "        vertical-align: middle;\n",
              "    }\n",
              "\n",
              "    .dataframe tbody tr th {\n",
              "        vertical-align: top;\n",
              "    }\n",
              "\n",
              "    .dataframe thead th {\n",
              "        text-align: right;\n",
              "    }\n",
              "</style>\n",
              "<table border=\"1\" class=\"dataframe\">\n",
              "  <thead>\n",
              "    <tr style=\"text-align: right;\">\n",
              "      <th></th>\n",
              "      <th>ID_CARTAO</th>\n",
              "      <th>DT_DESBLOQUEIO</th>\n",
              "    </tr>\n",
              "  </thead>\n",
              "  <tbody>\n",
              "    <tr>\n",
              "      <th>135608</th>\n",
              "      <td>4187812</td>\n",
              "      <td>2020-09-23</td>\n",
              "    </tr>\n",
              "    <tr>\n",
              "      <th>195844</th>\n",
              "      <td>4382331</td>\n",
              "      <td>2020-08-10</td>\n",
              "    </tr>\n",
              "  </tbody>\n",
              "</table>\n",
              "</div>"
            ],
            "text/plain": [
              "        ID_CARTAO DT_DESBLOQUEIO\n",
              "135608    4187812     2020-09-23\n",
              "195844    4382331     2020-08-10"
            ]
          },
          "metadata": {
            "tags": []
          }
        },
        {
          "output_type": "display_data",
          "data": {
            "text/html": [
              "<div>\n",
              "<style scoped>\n",
              "    .dataframe tbody tr th:only-of-type {\n",
              "        vertical-align: middle;\n",
              "    }\n",
              "\n",
              "    .dataframe tbody tr th {\n",
              "        vertical-align: top;\n",
              "    }\n",
              "\n",
              "    .dataframe thead th {\n",
              "        text-align: right;\n",
              "    }\n",
              "</style>\n",
              "<table border=\"1\" class=\"dataframe\">\n",
              "  <thead>\n",
              "    <tr style=\"text-align: right;\">\n",
              "      <th></th>\n",
              "      <th>ID_CARTAO</th>\n",
              "      <th>ID_CONTA</th>\n",
              "      <th>NU_SEQ_CARTAO</th>\n",
              "      <th>DT_GERACAO_EMBOSSING</th>\n",
              "      <th>DT_VALIDADE</th>\n",
              "      <th>DS_CARTAO</th>\n",
              "    </tr>\n",
              "  </thead>\n",
              "  <tbody>\n",
              "    <tr>\n",
              "      <th>269468</th>\n",
              "      <td>4649946</td>\n",
              "      <td>2001657</td>\n",
              "      <td>2</td>\n",
              "      <td>2020-10-06</td>\n",
              "      <td>2020-10-07</td>\n",
              "      <td>9099********4206</td>\n",
              "    </tr>\n",
              "    <tr>\n",
              "      <th>733406</th>\n",
              "      <td>5036788</td>\n",
              "      <td>2029513</td>\n",
              "      <td>3</td>\n",
              "      <td>2021-02-01</td>\n",
              "      <td>2025-02-13</td>\n",
              "      <td>8596********4614</td>\n",
              "    </tr>\n",
              "  </tbody>\n",
              "</table>\n",
              "</div>"
            ],
            "text/plain": [
              "        ID_CARTAO  ID_CONTA  ...  DT_VALIDADE         DS_CARTAO\n",
              "269468    4649946   2001657  ...   2020-10-07  9099********4206\n",
              "733406    5036788   2029513  ...   2025-02-13  8596********4614\n",
              "\n",
              "[2 rows x 6 columns]"
            ]
          },
          "metadata": {
            "tags": []
          }
        }
      ]
    },
    {
      "cell_type": "code",
      "metadata": {
        "id": "QCWZedi3NF92"
      },
      "source": [
        "t_cartao = t_cartao.drop_duplicates()\n",
        "t_desbloqueio = t_desbloqueio.sort_values(\"DT_DESBLOQUEIO\").drop_duplicates(subset=[\"ID_CARTAO\"], keep='first')\n",
        "t_compras = t_compras.sort_values([\"DT_COMPRA\"]).drop_duplicates(subset=[\"ID_CARTAO\"], keep='first')"
      ],
      "execution_count": 39,
      "outputs": []
    },
    {
      "cell_type": "markdown",
      "metadata": {
        "id": "-Pi7MWHMh_mu"
      },
      "source": [
        "### Safra"
      ]
    },
    {
      "cell_type": "code",
      "metadata": {
        "colab": {
          "base_uri": "https://localhost:8080/",
          "height": 460
        },
        "id": "VEjcjxVqYKq0",
        "outputId": "f50fddc3-1c75-40f6-c837-b04dce40bc21"
      },
      "source": [
        "safra = t_cartao.copy()\n",
        "\n",
        "# Cartões válidos \n",
        "\n",
        "## Retirar os que começa com 9099\n",
        "nao_comeca_9099 = safra[\"DS_CARTAO\"].str.split(\"*\", n = 1, expand = True)\n",
        "safra[\"NAO_COMECA_9099\"] = nao_comeca_9099[0]\n",
        "safra = safra.query(\"NAO_COMECA_9099!='9099'\").drop(columns=[\"NAO_COMECA_9099\"])\n",
        "\n",
        "## Considerar somente os gerados (emitidos) em 2020\n",
        "safra = safra.query(\"DT_GERACAO_EMBOSSING >= '2020-01-01' and DT_GERACAO_EMBOSSING < '2021-01-01'\")\n",
        "safra[\"Mes_Geracao\"] = safra[\"DT_GERACAO_EMBOSSING\"].dt.month\n",
        "\n",
        "display(safra.head(2), safra.info(), safra.nunique().to_frame().T, safra.shape)"
      ],
      "execution_count": 40,
      "outputs": [
        {
          "output_type": "stream",
          "text": [
            "<class 'pandas.core.frame.DataFrame'>\n",
            "Int64Index: 586429 entries, 0 to 973233\n",
            "Data columns (total 7 columns):\n",
            " #   Column                Non-Null Count   Dtype         \n",
            "---  ------                --------------   -----         \n",
            " 0   ID_CARTAO             586429 non-null  int64         \n",
            " 1   ID_CONTA              586429 non-null  int64         \n",
            " 2   NU_SEQ_CARTAO         586429 non-null  int64         \n",
            " 3   DT_GERACAO_EMBOSSING  586429 non-null  datetime64[ns]\n",
            " 4   DT_VALIDADE           586429 non-null  datetime64[ns]\n",
            " 5   DS_CARTAO             586429 non-null  object        \n",
            " 6   Mes_Geracao           586429 non-null  int64         \n",
            "dtypes: datetime64[ns](2), int64(4), object(1)\n",
            "memory usage: 35.8+ MB\n"
          ],
          "name": "stdout"
        },
        {
          "output_type": "display_data",
          "data": {
            "text/html": [
              "<div>\n",
              "<style scoped>\n",
              "    .dataframe tbody tr th:only-of-type {\n",
              "        vertical-align: middle;\n",
              "    }\n",
              "\n",
              "    .dataframe tbody tr th {\n",
              "        vertical-align: top;\n",
              "    }\n",
              "\n",
              "    .dataframe thead th {\n",
              "        text-align: right;\n",
              "    }\n",
              "</style>\n",
              "<table border=\"1\" class=\"dataframe\">\n",
              "  <thead>\n",
              "    <tr style=\"text-align: right;\">\n",
              "      <th></th>\n",
              "      <th>ID_CARTAO</th>\n",
              "      <th>ID_CONTA</th>\n",
              "      <th>NU_SEQ_CARTAO</th>\n",
              "      <th>DT_GERACAO_EMBOSSING</th>\n",
              "      <th>DT_VALIDADE</th>\n",
              "      <th>DS_CARTAO</th>\n",
              "      <th>Mes_Geracao</th>\n",
              "    </tr>\n",
              "  </thead>\n",
              "  <tbody>\n",
              "    <tr>\n",
              "      <th>0</th>\n",
              "      <td>4137125</td>\n",
              "      <td>1861370</td>\n",
              "      <td>2</td>\n",
              "      <td>2020-02-19</td>\n",
              "      <td>2025-02-13</td>\n",
              "      <td>8596********6981</td>\n",
              "      <td>2</td>\n",
              "    </tr>\n",
              "    <tr>\n",
              "      <th>1</th>\n",
              "      <td>4137126</td>\n",
              "      <td>1861371</td>\n",
              "      <td>1</td>\n",
              "      <td>2020-02-19</td>\n",
              "      <td>2025-02-13</td>\n",
              "      <td>8596********1863</td>\n",
              "      <td>2</td>\n",
              "    </tr>\n",
              "  </tbody>\n",
              "</table>\n",
              "</div>"
            ],
            "text/plain": [
              "   ID_CARTAO  ID_CONTA  ...         DS_CARTAO Mes_Geracao\n",
              "0    4137125   1861370  ...  8596********6981           2\n",
              "1    4137126   1861371  ...  8596********1863           2\n",
              "\n",
              "[2 rows x 7 columns]"
            ]
          },
          "metadata": {
            "tags": []
          }
        },
        {
          "output_type": "display_data",
          "data": {
            "text/plain": [
              "None"
            ]
          },
          "metadata": {
            "tags": []
          }
        },
        {
          "output_type": "display_data",
          "data": {
            "text/html": [
              "<div>\n",
              "<style scoped>\n",
              "    .dataframe tbody tr th:only-of-type {\n",
              "        vertical-align: middle;\n",
              "    }\n",
              "\n",
              "    .dataframe tbody tr th {\n",
              "        vertical-align: top;\n",
              "    }\n",
              "\n",
              "    .dataframe thead th {\n",
              "        text-align: right;\n",
              "    }\n",
              "</style>\n",
              "<table border=\"1\" class=\"dataframe\">\n",
              "  <thead>\n",
              "    <tr style=\"text-align: right;\">\n",
              "      <th></th>\n",
              "      <th>ID_CARTAO</th>\n",
              "      <th>ID_CONTA</th>\n",
              "      <th>NU_SEQ_CARTAO</th>\n",
              "      <th>DT_GERACAO_EMBOSSING</th>\n",
              "      <th>DT_VALIDADE</th>\n",
              "      <th>DS_CARTAO</th>\n",
              "      <th>Mes_Geracao</th>\n",
              "    </tr>\n",
              "  </thead>\n",
              "  <tbody>\n",
              "    <tr>\n",
              "      <th>0</th>\n",
              "      <td>586429</td>\n",
              "      <td>438657</td>\n",
              "      <td>255</td>\n",
              "      <td>366</td>\n",
              "      <td>164</td>\n",
              "      <td>10480</td>\n",
              "      <td>12</td>\n",
              "    </tr>\n",
              "  </tbody>\n",
              "</table>\n",
              "</div>"
            ],
            "text/plain": [
              "   ID_CARTAO  ID_CONTA  NU_SEQ_CARTAO  ...  DT_VALIDADE  DS_CARTAO  Mes_Geracao\n",
              "0     586429    438657            255  ...          164      10480           12\n",
              "\n",
              "[1 rows x 7 columns]"
            ]
          },
          "metadata": {
            "tags": []
          }
        },
        {
          "output_type": "display_data",
          "data": {
            "text/plain": [
              "(586429, 7)"
            ]
          },
          "metadata": {
            "tags": []
          }
        }
      ]
    },
    {
      "cell_type": "markdown",
      "metadata": {
        "id": "OangNIwXipMI"
      },
      "source": [
        "### Desbloqueio Safra"
      ]
    },
    {
      "cell_type": "code",
      "metadata": {
        "colab": {
          "base_uri": "https://localhost:8080/",
          "height": 435
        },
        "id": "oy2p68BsE5SX",
        "outputId": "764a8c48-0156-4bc0-d02b-a78f904dec2d"
      },
      "source": [
        "desbloqueio_safra = t_cartao.merge(t_desbloqueio, how='left', on='ID_CARTAO')\n",
        "desbloqueio_safra = desbloqueio_safra[~desbloqueio_safra[\"DT_DESBLOQUEIO\"].isna()]\n",
        "desbloqueio_safra[\"Mes_Geracao\"] = desbloqueio_safra[\"DT_GERACAO_EMBOSSING\"].dt.month\n",
        "\n",
        "display(desbloqueio_safra.head(2),desbloqueio_safra.shape,desbloqueio_safra.info(), desbloqueio_safra.ID_CARTAO.nunique())"
      ],
      "execution_count": 41,
      "outputs": [
        {
          "output_type": "stream",
          "text": [
            "<class 'pandas.core.frame.DataFrame'>\n",
            "Int64Index: 371543 entries, 4 to 973229\n",
            "Data columns (total 8 columns):\n",
            " #   Column                Non-Null Count   Dtype         \n",
            "---  ------                --------------   -----         \n",
            " 0   ID_CARTAO             371543 non-null  int64         \n",
            " 1   ID_CONTA              371543 non-null  int64         \n",
            " 2   NU_SEQ_CARTAO         371543 non-null  int64         \n",
            " 3   DT_GERACAO_EMBOSSING  371543 non-null  datetime64[ns]\n",
            " 4   DT_VALIDADE           371543 non-null  datetime64[ns]\n",
            " 5   DS_CARTAO             371543 non-null  object        \n",
            " 6   DT_DESBLOQUEIO        371543 non-null  datetime64[ns]\n",
            " 7   Mes_Geracao           371543 non-null  int64         \n",
            "dtypes: datetime64[ns](3), int64(4), object(1)\n",
            "memory usage: 25.5+ MB\n"
          ],
          "name": "stdout"
        },
        {
          "output_type": "display_data",
          "data": {
            "text/html": [
              "<div>\n",
              "<style scoped>\n",
              "    .dataframe tbody tr th:only-of-type {\n",
              "        vertical-align: middle;\n",
              "    }\n",
              "\n",
              "    .dataframe tbody tr th {\n",
              "        vertical-align: top;\n",
              "    }\n",
              "\n",
              "    .dataframe thead th {\n",
              "        text-align: right;\n",
              "    }\n",
              "</style>\n",
              "<table border=\"1\" class=\"dataframe\">\n",
              "  <thead>\n",
              "    <tr style=\"text-align: right;\">\n",
              "      <th></th>\n",
              "      <th>ID_CARTAO</th>\n",
              "      <th>ID_CONTA</th>\n",
              "      <th>NU_SEQ_CARTAO</th>\n",
              "      <th>DT_GERACAO_EMBOSSING</th>\n",
              "      <th>DT_VALIDADE</th>\n",
              "      <th>DS_CARTAO</th>\n",
              "      <th>DT_DESBLOQUEIO</th>\n",
              "      <th>Mes_Geracao</th>\n",
              "    </tr>\n",
              "  </thead>\n",
              "  <tbody>\n",
              "    <tr>\n",
              "      <th>4</th>\n",
              "      <td>4137129</td>\n",
              "      <td>1861372</td>\n",
              "      <td>2</td>\n",
              "      <td>2020-02-19</td>\n",
              "      <td>2025-02-13</td>\n",
              "      <td>8596********6955</td>\n",
              "      <td>2020-03-13</td>\n",
              "      <td>2</td>\n",
              "    </tr>\n",
              "    <tr>\n",
              "      <th>6</th>\n",
              "      <td>4137131</td>\n",
              "      <td>1861373</td>\n",
              "      <td>2</td>\n",
              "      <td>2020-02-19</td>\n",
              "      <td>2025-02-13</td>\n",
              "      <td>8596********0826</td>\n",
              "      <td>2020-02-13</td>\n",
              "      <td>2</td>\n",
              "    </tr>\n",
              "  </tbody>\n",
              "</table>\n",
              "</div>"
            ],
            "text/plain": [
              "   ID_CARTAO  ID_CONTA  ...  DT_DESBLOQUEIO Mes_Geracao\n",
              "4    4137129   1861372  ...      2020-03-13           2\n",
              "6    4137131   1861373  ...      2020-02-13           2\n",
              "\n",
              "[2 rows x 8 columns]"
            ]
          },
          "metadata": {
            "tags": []
          }
        },
        {
          "output_type": "display_data",
          "data": {
            "text/plain": [
              "(371543, 8)"
            ]
          },
          "metadata": {
            "tags": []
          }
        },
        {
          "output_type": "display_data",
          "data": {
            "text/plain": [
              "None"
            ]
          },
          "metadata": {
            "tags": []
          }
        },
        {
          "output_type": "display_data",
          "data": {
            "text/plain": [
              "371543"
            ]
          },
          "metadata": {
            "tags": []
          }
        }
      ]
    },
    {
      "cell_type": "code",
      "metadata": {
        "colab": {
          "base_uri": "https://localhost:8080/",
          "height": 472
        },
        "id": "qiDDPGYKVbj9",
        "outputId": "c28d9b35-440e-4574-990b-9437bae03b45"
      },
      "source": [
        "ativacao_safra = desbloqueio_safra.merge(t_compras, how='left', on=['ID_CARTAO','ID_CONTA'])\n",
        "ativacao_safra = ativacao_safra[~ativacao_safra[\"DT_COMPRA\"].isna()]\n",
        "ativacao_safra[\"Mes_Geracao\"] = ativacao_safra[\"DT_GERACAO_EMBOSSING\"].dt.month\n",
        "\n",
        "display(ativacao_safra.head(2),ativacao_safra.shape,ativacao_safra.info(),ativacao_safra.ID_CARTAO.nunique())"
      ],
      "execution_count": 42,
      "outputs": [
        {
          "output_type": "stream",
          "text": [
            "<class 'pandas.core.frame.DataFrame'>\n",
            "Int64Index: 277034 entries, 0 to 371542\n",
            "Data columns (total 10 columns):\n",
            " #   Column                Non-Null Count   Dtype         \n",
            "---  ------                --------------   -----         \n",
            " 0   ID_CARTAO             277034 non-null  int64         \n",
            " 1   ID_CONTA              277034 non-null  int64         \n",
            " 2   NU_SEQ_CARTAO         277034 non-null  int64         \n",
            " 3   DT_GERACAO_EMBOSSING  277034 non-null  datetime64[ns]\n",
            " 4   DT_VALIDADE           277034 non-null  datetime64[ns]\n",
            " 5   DS_CARTAO             277034 non-null  object        \n",
            " 6   DT_DESBLOQUEIO        277034 non-null  datetime64[ns]\n",
            " 7   Mes_Geracao           277034 non-null  int64         \n",
            " 8   DS_STATUS             277034 non-null  object        \n",
            " 9   DT_COMPRA             277034 non-null  object        \n",
            "dtypes: datetime64[ns](3), int64(4), object(3)\n",
            "memory usage: 23.2+ MB\n"
          ],
          "name": "stdout"
        },
        {
          "output_type": "display_data",
          "data": {
            "text/html": [
              "<div>\n",
              "<style scoped>\n",
              "    .dataframe tbody tr th:only-of-type {\n",
              "        vertical-align: middle;\n",
              "    }\n",
              "\n",
              "    .dataframe tbody tr th {\n",
              "        vertical-align: top;\n",
              "    }\n",
              "\n",
              "    .dataframe thead th {\n",
              "        text-align: right;\n",
              "    }\n",
              "</style>\n",
              "<table border=\"1\" class=\"dataframe\">\n",
              "  <thead>\n",
              "    <tr style=\"text-align: right;\">\n",
              "      <th></th>\n",
              "      <th>ID_CARTAO</th>\n",
              "      <th>ID_CONTA</th>\n",
              "      <th>NU_SEQ_CARTAO</th>\n",
              "      <th>DT_GERACAO_EMBOSSING</th>\n",
              "      <th>DT_VALIDADE</th>\n",
              "      <th>DS_CARTAO</th>\n",
              "      <th>DT_DESBLOQUEIO</th>\n",
              "      <th>Mes_Geracao</th>\n",
              "      <th>DS_STATUS</th>\n",
              "      <th>DT_COMPRA</th>\n",
              "    </tr>\n",
              "  </thead>\n",
              "  <tbody>\n",
              "    <tr>\n",
              "      <th>0</th>\n",
              "      <td>4137129</td>\n",
              "      <td>1861372</td>\n",
              "      <td>2</td>\n",
              "      <td>2020-02-19</td>\n",
              "      <td>2025-02-13</td>\n",
              "      <td>8596********6955</td>\n",
              "      <td>2020-03-13</td>\n",
              "      <td>2</td>\n",
              "      <td>Processada</td>\n",
              "      <td>2020-03-19 11:13:00</td>\n",
              "    </tr>\n",
              "    <tr>\n",
              "      <th>1</th>\n",
              "      <td>4137131</td>\n",
              "      <td>1861373</td>\n",
              "      <td>2</td>\n",
              "      <td>2020-02-19</td>\n",
              "      <td>2025-02-13</td>\n",
              "      <td>8596********0826</td>\n",
              "      <td>2020-02-13</td>\n",
              "      <td>2</td>\n",
              "      <td>Processada</td>\n",
              "      <td>2020-02-13 12:52:00</td>\n",
              "    </tr>\n",
              "  </tbody>\n",
              "</table>\n",
              "</div>"
            ],
            "text/plain": [
              "   ID_CARTAO  ID_CONTA  ...   DS_STATUS            DT_COMPRA\n",
              "0    4137129   1861372  ...  Processada  2020-03-19 11:13:00\n",
              "1    4137131   1861373  ...  Processada  2020-02-13 12:52:00\n",
              "\n",
              "[2 rows x 10 columns]"
            ]
          },
          "metadata": {
            "tags": []
          }
        },
        {
          "output_type": "display_data",
          "data": {
            "text/plain": [
              "(277034, 10)"
            ]
          },
          "metadata": {
            "tags": []
          }
        },
        {
          "output_type": "display_data",
          "data": {
            "text/plain": [
              "None"
            ]
          },
          "metadata": {
            "tags": []
          }
        },
        {
          "output_type": "display_data",
          "data": {
            "text/plain": [
              "277034"
            ]
          },
          "metadata": {
            "tags": []
          }
        }
      ]
    },
    {
      "cell_type": "markdown",
      "metadata": {
        "id": "3bgQMtqHb0Uk"
      },
      "source": [
        "# Comparativo \n",
        "\n",
        "Safra x Desbloqueio x Ativação"
      ]
    },
    {
      "cell_type": "code",
      "metadata": {
        "id": "W7r3gnzca5aR"
      },
      "source": [
        "t_safra = safra.groupby(\"Mes_Geracao\")[[\"ID_CARTAO\"]].count()\n",
        "t_desbloqueio_safra = desbloqueio_safra.groupby(\"Mes_Geracao\")[[\"ID_CARTAO\"]].count()\n",
        "t_ativacao_safra = ativacao_safra.groupby(\"Mes_Geracao\")[[\"ID_CARTAO\"]].count()"
      ],
      "execution_count": 43,
      "outputs": []
    },
    {
      "cell_type": "code",
      "metadata": {
        "colab": {
          "base_uri": "https://localhost:8080/",
          "height": 438
        },
        "id": "uY-aLdFEbxvL",
        "outputId": "cca82280-f6be-4d2c-e913-142a25403a48"
      },
      "source": [
        "comparativo = t_safra.merge(t_desbloqueio_safra, how='left', on='Mes_Geracao')\n",
        "comparativo = comparativo.merge(t_ativacao_safra, how='left', on='Mes_Geracao')\n",
        "comparativo = comparativo.rename(columns={\"ID_CARTAO_x\":\"Safra\",\"ID_CARTAO_y\":\"Desbloqueio de Safra\",\"ID_CARTAO\":\"Ativação de Safra\"})\n",
        "comparativo.columns.name = \"Mês de Referência\"\n",
        "comparativo"
      ],
      "execution_count": 44,
      "outputs": [
        {
          "output_type": "execute_result",
          "data": {
            "text/html": [
              "<div>\n",
              "<style scoped>\n",
              "    .dataframe tbody tr th:only-of-type {\n",
              "        vertical-align: middle;\n",
              "    }\n",
              "\n",
              "    .dataframe tbody tr th {\n",
              "        vertical-align: top;\n",
              "    }\n",
              "\n",
              "    .dataframe thead th {\n",
              "        text-align: right;\n",
              "    }\n",
              "</style>\n",
              "<table border=\"1\" class=\"dataframe\">\n",
              "  <thead>\n",
              "    <tr style=\"text-align: right;\">\n",
              "      <th>Mês de Referência</th>\n",
              "      <th>Safra</th>\n",
              "      <th>Desbloqueio de Safra</th>\n",
              "      <th>Ativação de Safra</th>\n",
              "    </tr>\n",
              "    <tr>\n",
              "      <th>Mes_Geracao</th>\n",
              "      <th></th>\n",
              "      <th></th>\n",
              "      <th></th>\n",
              "    </tr>\n",
              "  </thead>\n",
              "  <tbody>\n",
              "    <tr>\n",
              "      <th>1</th>\n",
              "      <td>65189</td>\n",
              "      <td>40061</td>\n",
              "      <td>NaN</td>\n",
              "    </tr>\n",
              "    <tr>\n",
              "      <th>2</th>\n",
              "      <td>50698</td>\n",
              "      <td>34332</td>\n",
              "      <td>14289.0</td>\n",
              "    </tr>\n",
              "    <tr>\n",
              "      <th>3</th>\n",
              "      <td>51557</td>\n",
              "      <td>37967</td>\n",
              "      <td>30460.0</td>\n",
              "    </tr>\n",
              "    <tr>\n",
              "      <th>4</th>\n",
              "      <td>36167</td>\n",
              "      <td>25148</td>\n",
              "      <td>22589.0</td>\n",
              "    </tr>\n",
              "    <tr>\n",
              "      <th>5</th>\n",
              "      <td>35428</td>\n",
              "      <td>25320</td>\n",
              "      <td>23600.0</td>\n",
              "    </tr>\n",
              "    <tr>\n",
              "      <th>6</th>\n",
              "      <td>54101</td>\n",
              "      <td>38933</td>\n",
              "      <td>36494.0</td>\n",
              "    </tr>\n",
              "    <tr>\n",
              "      <th>7</th>\n",
              "      <td>43713</td>\n",
              "      <td>30177</td>\n",
              "      <td>27881.0</td>\n",
              "    </tr>\n",
              "    <tr>\n",
              "      <th>8</th>\n",
              "      <td>47744</td>\n",
              "      <td>31586</td>\n",
              "      <td>28743.0</td>\n",
              "    </tr>\n",
              "    <tr>\n",
              "      <th>9</th>\n",
              "      <td>38703</td>\n",
              "      <td>28335</td>\n",
              "      <td>25082.0</td>\n",
              "    </tr>\n",
              "    <tr>\n",
              "      <th>10</th>\n",
              "      <td>45491</td>\n",
              "      <td>31542</td>\n",
              "      <td>27535.0</td>\n",
              "    </tr>\n",
              "    <tr>\n",
              "      <th>11</th>\n",
              "      <td>58370</td>\n",
              "      <td>33114</td>\n",
              "      <td>27895.0</td>\n",
              "    </tr>\n",
              "    <tr>\n",
              "      <th>12</th>\n",
              "      <td>59268</td>\n",
              "      <td>15028</td>\n",
              "      <td>12466.0</td>\n",
              "    </tr>\n",
              "  </tbody>\n",
              "</table>\n",
              "</div>"
            ],
            "text/plain": [
              "Mês de Referência  Safra  Desbloqueio de Safra  Ativação de Safra\n",
              "Mes_Geracao                                                      \n",
              "1                  65189                 40061                NaN\n",
              "2                  50698                 34332            14289.0\n",
              "3                  51557                 37967            30460.0\n",
              "4                  36167                 25148            22589.0\n",
              "5                  35428                 25320            23600.0\n",
              "6                  54101                 38933            36494.0\n",
              "7                  43713                 30177            27881.0\n",
              "8                  47744                 31586            28743.0\n",
              "9                  38703                 28335            25082.0\n",
              "10                 45491                 31542            27535.0\n",
              "11                 58370                 33114            27895.0\n",
              "12                 59268                 15028            12466.0"
            ]
          },
          "metadata": {
            "tags": []
          },
          "execution_count": 44
        }
      ]
    },
    {
      "cell_type": "code",
      "metadata": {
        "id": "nsOkC7bGcR_B"
      },
      "source": [
        ""
      ],
      "execution_count": 44,
      "outputs": []
    }
  ]
}