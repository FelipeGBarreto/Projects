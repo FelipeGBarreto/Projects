{
  "nbformat": 4,
  "nbformat_minor": 0,
  "metadata": {
    "colab": {
      "name": "Stroker Analysis_Prediction.ipynb",
      "provenance": [],
      "collapsed_sections": [
        "LSv6Oba-f5Yb",
        "GHdilM2qf5Yd",
        "q7_bUgblf5Yi"
      ],
      "include_colab_link": true
    },
    "kernelspec": {
      "display_name": "Python 3",
      "language": "python",
      "name": "python3"
    },
    "language_info": {
      "codemirror_mode": {
        "name": "ipython",
        "version": 3
      },
      "file_extension": ".py",
      "mimetype": "text/x-python",
      "name": "python",
      "nbconvert_exporter": "python",
      "pygments_lexer": "ipython3",
      "version": "3.8.6"
    }
  },
  "cells": [
    {
      "cell_type": "markdown",
      "metadata": {
        "id": "view-in-github",
        "colab_type": "text"
      },
      "source": [
        "<a href=\"https://colab.research.google.com/github/FelipeGBarreto/Projects/blob/master/Stroker_Analysis_Prediction.ipynb\" target=\"_parent\"><img src=\"https://colab.research.google.com/assets/colab-badge.svg\" alt=\"Open In Colab\"/></a>"
      ]
    },
    {
      "cell_type": "markdown",
      "metadata": {
        "id": "k62azDgMf5YT"
      },
      "source": [
        "# <font color=purple size=6 face=\"cursive\"><u>Dataset</u>  - <i><q>Stroker</q></i>\n",
        "- <font color=black size=3>Fonte: Kaggle"
      ]
    },
    {
      "cell_type": "markdown",
      "metadata": {
        "id": "LSv6Oba-f5Yb"
      },
      "source": [
        "#<font color=cian size=5 face=\"cursive\">Bibliotecas a serem utilizadas"
      ]
    },
    {
      "cell_type": "code",
      "metadata": {
        "id": "ynG5Gn2-KNkl"
      },
      "source": [
        "import pandas as pd\n",
        "import numpy as np\n",
        "import seaborn as sns\n",
        "import matplotlib.pyplot as plt\n",
        "import warnings\n",
        "warnings.filterwarnings('ignore')"
      ],
      "execution_count": 237,
      "outputs": []
    },
    {
      "cell_type": "markdown",
      "metadata": {
        "id": "GHdilM2qf5Yd"
      },
      "source": [
        "#<font color=cian size=5 face=\"cursive\">Conjunto de dados\n"
      ]
    },
    {
      "cell_type": "code",
      "metadata": {
        "colab": {
          "base_uri": "https://localhost:8080/",
          "height": 138
        },
        "id": "d3cNH0atf5Ye",
        "outputId": "31c974ab-bd9d-4a80-ab1d-c22d654fc20c"
      },
      "source": [
        "df = pd.read_csv(\"healthcare-dataset-stroke-data.csv\")\n",
        "df = df.drop(columns=\"id\")\n",
        "\n",
        "df.head(3)"
      ],
      "execution_count": 238,
      "outputs": [
        {
          "output_type": "execute_result",
          "data": {
            "text/html": [
              "<div>\n",
              "<style scoped>\n",
              "    .dataframe tbody tr th:only-of-type {\n",
              "        vertical-align: middle;\n",
              "    }\n",
              "\n",
              "    .dataframe tbody tr th {\n",
              "        vertical-align: top;\n",
              "    }\n",
              "\n",
              "    .dataframe thead th {\n",
              "        text-align: right;\n",
              "    }\n",
              "</style>\n",
              "<table border=\"1\" class=\"dataframe\">\n",
              "  <thead>\n",
              "    <tr style=\"text-align: right;\">\n",
              "      <th></th>\n",
              "      <th>gender</th>\n",
              "      <th>age</th>\n",
              "      <th>hypertension</th>\n",
              "      <th>heart_disease</th>\n",
              "      <th>ever_married</th>\n",
              "      <th>work_type</th>\n",
              "      <th>Residence_type</th>\n",
              "      <th>avg_glucose_level</th>\n",
              "      <th>bmi</th>\n",
              "      <th>smoking_status</th>\n",
              "      <th>stroke</th>\n",
              "    </tr>\n",
              "  </thead>\n",
              "  <tbody>\n",
              "    <tr>\n",
              "      <th>0</th>\n",
              "      <td>Male</td>\n",
              "      <td>67.0</td>\n",
              "      <td>0</td>\n",
              "      <td>1</td>\n",
              "      <td>Yes</td>\n",
              "      <td>Private</td>\n",
              "      <td>Urban</td>\n",
              "      <td>228.69</td>\n",
              "      <td>36.6</td>\n",
              "      <td>formerly smoked</td>\n",
              "      <td>1</td>\n",
              "    </tr>\n",
              "    <tr>\n",
              "      <th>1</th>\n",
              "      <td>Female</td>\n",
              "      <td>61.0</td>\n",
              "      <td>0</td>\n",
              "      <td>0</td>\n",
              "      <td>Yes</td>\n",
              "      <td>Self-employed</td>\n",
              "      <td>Rural</td>\n",
              "      <td>202.21</td>\n",
              "      <td>NaN</td>\n",
              "      <td>never smoked</td>\n",
              "      <td>1</td>\n",
              "    </tr>\n",
              "    <tr>\n",
              "      <th>2</th>\n",
              "      <td>Male</td>\n",
              "      <td>80.0</td>\n",
              "      <td>0</td>\n",
              "      <td>1</td>\n",
              "      <td>Yes</td>\n",
              "      <td>Private</td>\n",
              "      <td>Rural</td>\n",
              "      <td>105.92</td>\n",
              "      <td>32.5</td>\n",
              "      <td>never smoked</td>\n",
              "      <td>1</td>\n",
              "    </tr>\n",
              "  </tbody>\n",
              "</table>\n",
              "</div>"
            ],
            "text/plain": [
              "   gender   age  hypertension  ...   bmi   smoking_status stroke\n",
              "0    Male  67.0             0  ...  36.6  formerly smoked      1\n",
              "1  Female  61.0             0  ...   NaN     never smoked      1\n",
              "2    Male  80.0             0  ...  32.5     never smoked      1\n",
              "\n",
              "[3 rows x 11 columns]"
            ]
          },
          "metadata": {
            "tags": []
          },
          "execution_count": 238
        }
      ]
    },
    {
      "cell_type": "markdown",
      "metadata": {
        "id": "q7_bUgblf5Yi"
      },
      "source": [
        "#<font color=cian size=5 face=\"cursive\">Atribuindo valores numéricos aos alfabéticos"
      ]
    },
    {
      "cell_type": "code",
      "metadata": {
        "colab": {
          "base_uri": "https://localhost:8080/"
        },
        "id": "Mykbogy0f5Yj",
        "outputId": "9d7b248d-68ee-4c93-a8ba-7f9772e4b623"
      },
      "source": [
        "for field in df.columns:\n",
        "    if np.dtype(df[field]) == 'object':\n",
        "        print(\"{} --> {}\".format(field,df[field].unique()))"
      ],
      "execution_count": 239,
      "outputs": [
        {
          "output_type": "stream",
          "text": [
            "gender --> ['Male' 'Female' 'Other']\n",
            "ever_married --> ['Yes' 'No']\n",
            "work_type --> ['Private' 'Self-employed' 'Govt_job' 'children' 'Never_worked']\n",
            "Residence_type --> ['Urban' 'Rural']\n",
            "smoking_status --> ['formerly smoked' 'never smoked' 'smokes' 'Unknown']\n"
          ],
          "name": "stdout"
        }
      ]
    },
    {
      "cell_type": "code",
      "metadata": {
        "id": "FZKrsF3TLGiM"
      },
      "source": [
        "df.gender = df.gender.map({'Male':1, 'Female':0})\n",
        "df.ever_married = df.ever_married.map({'Yes':1, 'No':0})\n",
        "df.Residence_type = df.Residence_type.map({'Urban':1, 'Rural':0})\n",
        "df.work_type = df.work_type.map({'Private':1, 'Self-employed':2,'Govt_job':3, \n",
        "                                 'children':4,'Never_worked':5})\n",
        "df.smoking_status = df.smoking_status.map({'formerly smoked':1, 'never smoked':2,\n",
        "                                           'smokes':3, 'Unknown':4})\n",
        "\n",
        "df=df.query(\"gender==1 or gender==0\") # Retirei uma única linha que não havia identificação de gênero (sem representatividade)\n",
        "df.gender = df.gender.astype('int32')"
      ],
      "execution_count": 240,
      "outputs": []
    },
    {
      "cell_type": "markdown",
      "metadata": {
        "id": "8aXtTAAIf5Yl"
      },
      "source": [
        "#<font color=cian size=5 face=\"cursive\">Verificando se há valores em branco e subistituindo pela média dos valores\n",
        "- <font color=black size=3>Campo 'bmi'"
      ]
    },
    {
      "cell_type": "code",
      "metadata": {
        "colab": {
          "base_uri": "https://localhost:8080/"
        },
        "id": "9rEqUwK0f5Ym",
        "outputId": "4bcf3bca-8490-4589-8351-bcae1e0b3e68"
      },
      "source": [
        "def preencher_nan (data_frame, campo):\n",
        "    data_frame[campo] = data_frame[campo].fillna(data_frame[campo].mean())\n",
        "    \n",
        "preencher_nan(df,\"bmi\")\n",
        "df.info()"
      ],
      "execution_count": 241,
      "outputs": [
        {
          "output_type": "stream",
          "text": [
            "<class 'pandas.core.frame.DataFrame'>\n",
            "Int64Index: 5109 entries, 0 to 5109\n",
            "Data columns (total 11 columns):\n",
            " #   Column             Non-Null Count  Dtype  \n",
            "---  ------             --------------  -----  \n",
            " 0   gender             5109 non-null   int32  \n",
            " 1   age                5109 non-null   float64\n",
            " 2   hypertension       5109 non-null   int64  \n",
            " 3   heart_disease      5109 non-null   int64  \n",
            " 4   ever_married       5109 non-null   int64  \n",
            " 5   work_type          5109 non-null   int64  \n",
            " 6   Residence_type     5109 non-null   int64  \n",
            " 7   avg_glucose_level  5109 non-null   float64\n",
            " 8   bmi                5109 non-null   float64\n",
            " 9   smoking_status     5109 non-null   int64  \n",
            " 10  stroke             5109 non-null   int64  \n",
            "dtypes: float64(3), int32(1), int64(7)\n",
            "memory usage: 459.0 KB\n"
          ],
          "name": "stdout"
        }
      ]
    },
    {
      "cell_type": "markdown",
      "metadata": {
        "id": "BFpemkqgL8Qj"
      },
      "source": [
        "#<font color=cian size=5 face=cursive>Análise dos dados"
      ]
    },
    {
      "cell_type": "markdown",
      "metadata": {
        "id": "R88mqDDQf5Yn"
      },
      "source": [
        "<font color=darkgreen size=4 face=cursive>Quais variáveis estão mais relacionadas com derrames cerebrais?"
      ]
    },
    {
      "cell_type": "code",
      "metadata": {
        "colab": {
          "base_uri": "https://localhost:8080/",
          "height": 96
        },
        "id": "dbS-GYGmf5Yn",
        "outputId": "7c5c85db-3ab2-4769-c24e-987243aeb239"
      },
      "source": [
        "print(\"Correlação entre quem teve derrame e as demais variáveis:\")\n",
        "df.corr()[-1:]"
      ],
      "execution_count": 242,
      "outputs": [
        {
          "output_type": "stream",
          "text": [
            "Correlação entre quem teve derrame e as demais variáveis:\n"
          ],
          "name": "stdout"
        },
        {
          "output_type": "execute_result",
          "data": {
            "text/html": [
              "<div>\n",
              "<style scoped>\n",
              "    .dataframe tbody tr th:only-of-type {\n",
              "        vertical-align: middle;\n",
              "    }\n",
              "\n",
              "    .dataframe tbody tr th {\n",
              "        vertical-align: top;\n",
              "    }\n",
              "\n",
              "    .dataframe thead th {\n",
              "        text-align: right;\n",
              "    }\n",
              "</style>\n",
              "<table border=\"1\" class=\"dataframe\">\n",
              "  <thead>\n",
              "    <tr style=\"text-align: right;\">\n",
              "      <th></th>\n",
              "      <th>gender</th>\n",
              "      <th>age</th>\n",
              "      <th>hypertension</th>\n",
              "      <th>heart_disease</th>\n",
              "      <th>ever_married</th>\n",
              "      <th>work_type</th>\n",
              "      <th>Residence_type</th>\n",
              "      <th>avg_glucose_level</th>\n",
              "      <th>bmi</th>\n",
              "      <th>smoking_status</th>\n",
              "      <th>stroke</th>\n",
              "    </tr>\n",
              "  </thead>\n",
              "  <tbody>\n",
              "    <tr>\n",
              "      <th>stroke</th>\n",
              "      <td>0.009081</td>\n",
              "      <td>0.245239</td>\n",
              "      <td>0.127891</td>\n",
              "      <td>0.134905</td>\n",
              "      <td>0.108299</td>\n",
              "      <td>-0.058261</td>\n",
              "      <td>0.015415</td>\n",
              "      <td>0.131991</td>\n",
              "      <td>0.038917</td>\n",
              "      <td>-0.066471</td>\n",
              "      <td>1.0</td>\n",
              "    </tr>\n",
              "  </tbody>\n",
              "</table>\n",
              "</div>"
            ],
            "text/plain": [
              "          gender       age  hypertension  ...       bmi  smoking_status  stroke\n",
              "stroke  0.009081  0.245239      0.127891  ...  0.038917       -0.066471     1.0\n",
              "\n",
              "[1 rows x 11 columns]"
            ]
          },
          "metadata": {
            "tags": []
          },
          "execution_count": 242
        }
      ]
    },
    {
      "cell_type": "code",
      "metadata": {
        "colab": {
          "base_uri": "https://localhost:8080/",
          "height": 180
        },
        "id": "NQRb3hK_LbH7",
        "outputId": "9da426b0-765b-47db-d6bb-91c68ba59da4"
      },
      "source": [
        "sns.pairplot(data=df,y_vars='stroke')"
      ],
      "execution_count": 243,
      "outputs": [
        {
          "output_type": "execute_result",
          "data": {
            "text/plain": [
              "<seaborn.axisgrid.PairGrid at 0x7f25261ced90>"
            ]
          },
          "metadata": {
            "tags": []
          },
          "execution_count": 243
        },
        {
          "output_type": "display_data",
          "data": {
            "image/png": "[encoded data removed]",
            "text/plain": [
              "<Figure size 1980x180 with 12 Axes>"
            ]
          },
          "metadata": {
            "tags": [],
            "needs_background": "light"
          }
        }
      ]
    },
    {
      "cell_type": "markdown",
      "metadata": {
        "id": "WqYLDMveoHb6"
      },
      "source": [
        "<font color= gray size=4 face=cursive>\n",
        "\n",
        "*   Há cinco variáveis que mais chamam a atenção, as quais mostram uma corelação com a variável derrame, são elas:\n",
        "  - age;\n",
        "  - heart_disease;\n",
        "  - avg_glucose_level;\n",
        "  - hypertension;\n",
        "  - ever_married.\n"
      ]
    },
    {
      "cell_type": "code",
      "metadata": {
        "colab": {
          "base_uri": "https://localhost:8080/",
          "height": 78
        },
        "id": "tOYWfx4oAKdE",
        "outputId": "6a5b5724-ffd7-4216-a955-2fb5e823f0ee"
      },
      "source": [
        "df[[\"stroke\",\"age\",\"heart_disease\",\"avg_glucose_level\",\"hypertension\",\"ever_married\"]].corr()[-1:]"
      ],
      "execution_count": 244,
      "outputs": [
        {
          "output_type": "execute_result",
          "data": {
            "text/html": [
              "<div>\n",
              "<style scoped>\n",
              "    .dataframe tbody tr th:only-of-type {\n",
              "        vertical-align: middle;\n",
              "    }\n",
              "\n",
              "    .dataframe tbody tr th {\n",
              "        vertical-align: top;\n",
              "    }\n",
              "\n",
              "    .dataframe thead th {\n",
              "        text-align: right;\n",
              "    }\n",
              "</style>\n",
              "<table border=\"1\" class=\"dataframe\">\n",
              "  <thead>\n",
              "    <tr style=\"text-align: right;\">\n",
              "      <th></th>\n",
              "      <th>stroke</th>\n",
              "      <th>age</th>\n",
              "      <th>heart_disease</th>\n",
              "      <th>avg_glucose_level</th>\n",
              "      <th>hypertension</th>\n",
              "      <th>ever_married</th>\n",
              "    </tr>\n",
              "  </thead>\n",
              "  <tbody>\n",
              "    <tr>\n",
              "      <th>ever_married</th>\n",
              "      <td>0.108299</td>\n",
              "      <td>0.679084</td>\n",
              "      <td>0.114601</td>\n",
              "      <td>0.155329</td>\n",
              "      <td>0.164187</td>\n",
              "      <td>1.0</td>\n",
              "    </tr>\n",
              "  </tbody>\n",
              "</table>\n",
              "</div>"
            ],
            "text/plain": [
              "                stroke       age  ...  hypertension  ever_married\n",
              "ever_married  0.108299  0.679084  ...      0.164187           1.0\n",
              "\n",
              "[1 rows x 6 columns]"
            ]
          },
          "metadata": {
            "tags": []
          },
          "execution_count": 244
        }
      ]
    },
    {
      "cell_type": "markdown",
      "metadata": {
        "id": "bpYMTflif5Yo"
      },
      "source": [
        "Classes de idade:\n",
        "\n",
        "    ► A: 0  - 20 anos\n",
        "    ► B: 21 - 35 anos\n",
        "    ► C: 36 - 50 anos\n",
        "    ► D: 51 - 65 anos\n",
        "    ► E: 66 - 82 anos"
      ]
    },
    {
      "cell_type": "code",
      "metadata": {
        "colab": {
          "base_uri": "https://localhost:8080/",
          "height": 271
        },
        "id": "VvQbBY1Sf5Yp",
        "outputId": "1f1e0228-8169-434e-dc29-2b28b8c4660b"
      },
      "source": [
        "classes = [0, 20, 35, 50, 65, 82]\n",
        "labels = [\"00-20\",\"21-35\",\"36-50\",\"51-65\",\"66-82\"]\n",
        "\n",
        "classificando_age = pd.cut(x = df_stroke.age,bins = classes,labels = labels,include_lowest = True)\n",
        "\n",
        "freq_age = pd.value_counts(classificando_age).sort_index()\n",
        "freq_age_perct = pd.value_counts(classificando_age, normalize=True).sort_index()\n",
        "\n",
        "print(f\"Total de Pessoas entrevistadas: {df.gender.count()}\")\n",
        "print(f\"Total de Pessoas da amostra que tiveram AVC: {df_stroke.gender.count()}\\n\")\n",
        "\n",
        "dist_freq_age = pd.DataFrame({\"freq\":freq_age,\"Perct (%)\": 100*freq_age_perct.round(3)})\n",
        "\n",
        "print(\"Percentual de pessoas que tiveram derrame de acordo com a idade:\")\n",
        "dist_freq_age.columns.name = \"Classes de Idade\"\n",
        "\n",
        "dist_freq_age"
      ],
      "execution_count": 245,
      "outputs": [
        {
          "output_type": "stream",
          "text": [
            "Total de Pessoas entrevistadas: 5109\n",
            "Total de Pessoas da amostra que tiveram AVC: 249\n",
            "\n",
            "Percentual de pessoas que tiveram derrame de acordo com a idade:\n"
          ],
          "name": "stdout"
        },
        {
          "output_type": "execute_result",
          "data": {
            "text/html": [
              "<div>\n",
              "<style scoped>\n",
              "    .dataframe tbody tr th:only-of-type {\n",
              "        vertical-align: middle;\n",
              "    }\n",
              "\n",
              "    .dataframe tbody tr th {\n",
              "        vertical-align: top;\n",
              "    }\n",
              "\n",
              "    .dataframe thead th {\n",
              "        text-align: right;\n",
              "    }\n",
              "</style>\n",
              "<table border=\"1\" class=\"dataframe\">\n",
              "  <thead>\n",
              "    <tr style=\"text-align: right;\">\n",
              "      <th>Classes de Idade</th>\n",
              "      <th>freq</th>\n",
              "      <th>Perct (%)</th>\n",
              "    </tr>\n",
              "  </thead>\n",
              "  <tbody>\n",
              "    <tr>\n",
              "      <th>00-20</th>\n",
              "      <td>2</td>\n",
              "      <td>0.8</td>\n",
              "    </tr>\n",
              "    <tr>\n",
              "      <th>21-35</th>\n",
              "      <td>1</td>\n",
              "      <td>0.4</td>\n",
              "    </tr>\n",
              "    <tr>\n",
              "      <th>36-50</th>\n",
              "      <td>20</td>\n",
              "      <td>8.0</td>\n",
              "    </tr>\n",
              "    <tr>\n",
              "      <th>51-65</th>\n",
              "      <td>70</td>\n",
              "      <td>28.1</td>\n",
              "    </tr>\n",
              "    <tr>\n",
              "      <th>66-82</th>\n",
              "      <td>156</td>\n",
              "      <td>62.7</td>\n",
              "    </tr>\n",
              "  </tbody>\n",
              "</table>\n",
              "</div>"
            ],
            "text/plain": [
              "Classes de Idade  freq  Perct (%)\n",
              "00-20                2        0.8\n",
              "21-35                1        0.4\n",
              "36-50               20        8.0\n",
              "51-65               70       28.1\n",
              "66-82              156       62.7"
            ]
          },
          "metadata": {
            "tags": []
          },
          "execution_count": 245
        }
      ]
    },
    {
      "cell_type": "markdown",
      "metadata": {
        "id": "ZfhTYSVAU70e"
      },
      "source": [
        "<font color=green size=4 face=cursiva>Constatando através de gráficos"
      ]
    },
    {
      "cell_type": "code",
      "metadata": {
        "id": "1zooiH13f5Yq"
      },
      "source": [
        "df[\"age_class\"]=classificando_age\n",
        "df_stroke[\"age_class\"]=classificando_age"
      ],
      "execution_count": 246,
      "outputs": []
    },
    {
      "cell_type": "code",
      "metadata": {
        "colab": {
          "base_uri": "https://localhost:8080/",
          "height": 300
        },
        "id": "q8Uw6LnBf5Yr",
        "outputId": "de179e64-ea97-4d7d-f618-182f0b6c2b5e"
      },
      "source": [
        "ax=dist_freq_age.plot.bar(width=0.9, alpha=0.3, align='center')\n",
        "ax.set_title(\"Distribuição de Freqência Derrame x Idade\");"
      ],
      "execution_count": 247,
      "outputs": [
        {
          "output_type": "display_data",
          "data": {
            "image/png": "[encoded data removed]",
            "text/plain": [
              "<Figure size 432x288 with 1 Axes>"
            ]
          },
          "metadata": {
            "tags": [],
            "needs_background": "light"
          }
        }
      ]
    },
    {
      "cell_type": "code",
      "metadata": {
        "colab": {
          "base_uri": "https://localhost:8080/",
          "height": 295
        },
        "id": "gYSuQLNIf5Ys",
        "outputId": "5b9758d3-bc40-417e-8a5c-0813f350f2df"
      },
      "source": [
        "stroke_age = sns.boxplot(df_stroke.age)\n",
        "stroke_age.set_title(\"Boxplot Derrame por Idade\");"
      ],
      "execution_count": 248,
      "outputs": [
        {
          "output_type": "display_data",
          "data": {
            "image/png": "[encoded data removed]",
            "text/plain": [
              "<Figure size 432x288 with 1 Axes>"
            ]
          },
          "metadata": {
            "tags": [],
            "needs_background": "light"
          }
        }
      ]
    },
    {
      "cell_type": "markdown",
      "metadata": {
        "id": "8XC4lVRzf5Ys"
      },
      "source": [
        "Da amostra, tomando somente aquelas pessoas que já sofreram derrame em algum momento da vida, temos:\n",
        "- Pessoas com idade superior a 59 anos que tiveram derrame é três vezes o número de pessoas com idade abaixo de 59 anos."
      ]
    },
    {
      "cell_type": "code",
      "metadata": {
        "colab": {
          "base_uri": "https://localhost:8080/",
          "height": 295
        },
        "id": "hSJzBkWLf5Yt",
        "outputId": "d05af598-523d-4160-b81a-5eb76b1709f7"
      },
      "source": [
        "ax = sns.boxplot(x='age', y='heart_disease',data=df_stroke, orient='h', hue='gender')\n",
        "ax.set_title(\"Boxplot de Idade x Doença Cardíaca por gênero\")\n",
        "ax.set_xlabel(\"Idade\");"
      ],
      "execution_count": 249,
      "outputs": [
        {
          "output_type": "display_data",
          "data": {
            "image/png": "[encoded data removed]",
            "text/plain": [
              "<Figure size 432x288 with 1 Axes>"
            ]
          },
          "metadata": {
            "tags": [],
            "needs_background": "light"
          }
        }
      ]
    },
    {
      "cell_type": "markdown",
      "metadata": {
        "id": "9e_FAjA3f5Yt"
      },
      "source": [
        "### Histograma de idade de pessoas entrevistadas"
      ]
    },
    {
      "cell_type": "code",
      "metadata": {
        "colab": {
          "base_uri": "https://localhost:8080/",
          "height": 295
        },
        "id": "oyGhHF2xf5Yu",
        "outputId": "9e04474b-fd24-4cfa-837c-0fb2b6413652"
      },
      "source": [
        "ax=sns.histplot(df.age)\n",
        "ax.set_title(\"Verificação do histograma da amostra por idade\");"
      ],
      "execution_count": 250,
      "outputs": [
        {
          "output_type": "display_data",
          "data": {
            "image/png": "[encoded data removed]",
            "text/plain": [
              "<Figure size 432x288 with 1 Axes>"
            ]
          },
          "metadata": {
            "tags": [],
            "needs_background": "light"
          }
        }
      ]
    },
    {
      "cell_type": "markdown",
      "metadata": {
        "id": "JfUbs3WUf5Yv"
      },
      "source": [
        "### Histograma de pessoas entrevistadas que sofreram derrame"
      ]
    },
    {
      "cell_type": "code",
      "metadata": {
        "colab": {
          "base_uri": "https://localhost:8080/",
          "height": 297
        },
        "id": "RllnKJoSf5Yw",
        "outputId": "2407fa2f-49a2-4176-9705-2942688fbce0"
      },
      "source": [
        "sns.histplot(df_stroke.age)"
      ],
      "execution_count": 251,
      "outputs": [
        {
          "output_type": "execute_result",
          "data": {
            "text/plain": [
              "<matplotlib.axes._subplots.AxesSubplot at 0x7f251333b850>"
            ]
          },
          "metadata": {
            "tags": []
          },
          "execution_count": 251
        },
        {
          "output_type": "display_data",
          "data": {
            "image/png": "[encoded data removed]",
            "text/plain": [
              "<Figure size 432x288 with 1 Axes>"
            ]
          },
          "metadata": {
            "tags": [],
            "needs_background": "light"
          }
        }
      ]
    },
    {
      "cell_type": "code",
      "metadata": {
        "colab": {
          "base_uri": "https://localhost:8080/",
          "height": 390
        },
        "id": "eDqVt2Mtf5Yw",
        "outputId": "f2fcdd4f-9861-438d-df81-d845733cf106"
      },
      "source": [
        "df_stroke.hist(bins=20, figsize=(15, 6), color='yellow');"
      ],
      "execution_count": 252,
      "outputs": [
        {
          "output_type": "display_data",
          "data": {
            "image/png": "[encoded data removed]",
            "text/plain": [
              "<Figure size 1080x432 with 12 Axes>"
            ]
          },
          "metadata": {
            "tags": [],
            "needs_background": "light"
          }
        }
      ]
    },
    {
      "cell_type": "code",
      "metadata": {
        "colab": {
          "base_uri": "https://localhost:8080/",
          "height": 378
        },
        "id": "z3FEG9ZEf5Yx",
        "outputId": "cbe54da3-a589-4041-ce58-03ed3cdc7cda"
      },
      "source": [
        "df_stroke.groupby([\"gender\",\"age_class\"])[[\"gender\"]].count()"
      ],
      "execution_count": 253,
      "outputs": [
        {
          "output_type": "execute_result",
          "data": {
            "text/html": [
              "<div>\n",
              "<style scoped>\n",
              "    .dataframe tbody tr th:only-of-type {\n",
              "        vertical-align: middle;\n",
              "    }\n",
              "\n",
              "    .dataframe tbody tr th {\n",
              "        vertical-align: top;\n",
              "    }\n",
              "\n",
              "    .dataframe thead th {\n",
              "        text-align: right;\n",
              "    }\n",
              "</style>\n",
              "<table border=\"1\" class=\"dataframe\">\n",
              "  <thead>\n",
              "    <tr style=\"text-align: right;\">\n",
              "      <th></th>\n",
              "      <th></th>\n",
              "      <th>gender</th>\n",
              "    </tr>\n",
              "    <tr>\n",
              "      <th>gender</th>\n",
              "      <th>age_class</th>\n",
              "      <th></th>\n",
              "    </tr>\n",
              "  </thead>\n",
              "  <tbody>\n",
              "    <tr>\n",
              "      <th rowspan=\"5\" valign=\"top\">0</th>\n",
              "      <th>00-20</th>\n",
              "      <td>2.0</td>\n",
              "    </tr>\n",
              "    <tr>\n",
              "      <th>21-35</th>\n",
              "      <td>1.0</td>\n",
              "    </tr>\n",
              "    <tr>\n",
              "      <th>36-50</th>\n",
              "      <td>14.0</td>\n",
              "    </tr>\n",
              "    <tr>\n",
              "      <th>51-65</th>\n",
              "      <td>33.0</td>\n",
              "    </tr>\n",
              "    <tr>\n",
              "      <th>66-82</th>\n",
              "      <td>91.0</td>\n",
              "    </tr>\n",
              "    <tr>\n",
              "      <th rowspan=\"5\" valign=\"top\">1</th>\n",
              "      <th>00-20</th>\n",
              "      <td>NaN</td>\n",
              "    </tr>\n",
              "    <tr>\n",
              "      <th>21-35</th>\n",
              "      <td>NaN</td>\n",
              "    </tr>\n",
              "    <tr>\n",
              "      <th>36-50</th>\n",
              "      <td>6.0</td>\n",
              "    </tr>\n",
              "    <tr>\n",
              "      <th>51-65</th>\n",
              "      <td>37.0</td>\n",
              "    </tr>\n",
              "    <tr>\n",
              "      <th>66-82</th>\n",
              "      <td>65.0</td>\n",
              "    </tr>\n",
              "  </tbody>\n",
              "</table>\n",
              "</div>"
            ],
            "text/plain": [
              "                  gender\n",
              "gender age_class        \n",
              "0      00-20         2.0\n",
              "       21-35         1.0\n",
              "       36-50        14.0\n",
              "       51-65        33.0\n",
              "       66-82        91.0\n",
              "1      00-20         NaN\n",
              "       21-35         NaN\n",
              "       36-50         6.0\n",
              "       51-65        37.0\n",
              "       66-82        65.0"
            ]
          },
          "metadata": {
            "tags": []
          },
          "execution_count": 253
        }
      ]
    },
    {
      "cell_type": "markdown",
      "metadata": {
        "id": "BEXPWyBnf5Yy"
      },
      "source": [
        "<font color=cian size=4 face=cursive><b>Previsão com análise regressiva"
      ]
    },
    {
      "cell_type": "code",
      "metadata": {
        "colab": {
          "base_uri": "https://localhost:8080/",
          "height": 198
        },
        "id": "7f7nrj-kf5Yy",
        "outputId": "4842b427-b6ac-4ca5-d497-1eb955f237b0"
      },
      "source": [
        "dataset = df[[\"stroke\",\"age\",\"heart_disease\",\"avg_glucose_level\",\"hypertension\",\"ever_married\"]]\n",
        "dataset.head()"
      ],
      "execution_count": 254,
      "outputs": [
        {
          "output_type": "execute_result",
          "data": {
            "text/html": [
              "<div>\n",
              "<style scoped>\n",
              "    .dataframe tbody tr th:only-of-type {\n",
              "        vertical-align: middle;\n",
              "    }\n",
              "\n",
              "    .dataframe tbody tr th {\n",
              "        vertical-align: top;\n",
              "    }\n",
              "\n",
              "    .dataframe thead th {\n",
              "        text-align: right;\n",
              "    }\n",
              "</style>\n",
              "<table border=\"1\" class=\"dataframe\">\n",
              "  <thead>\n",
              "    <tr style=\"text-align: right;\">\n",
              "      <th></th>\n",
              "      <th>stroke</th>\n",
              "      <th>age</th>\n",
              "      <th>heart_disease</th>\n",
              "      <th>avg_glucose_level</th>\n",
              "      <th>hypertension</th>\n",
              "      <th>ever_married</th>\n",
              "    </tr>\n",
              "  </thead>\n",
              "  <tbody>\n",
              "    <tr>\n",
              "      <th>0</th>\n",
              "      <td>1</td>\n",
              "      <td>67.0</td>\n",
              "      <td>1</td>\n",
              "      <td>228.69</td>\n",
              "      <td>0</td>\n",
              "      <td>1</td>\n",
              "    </tr>\n",
              "    <tr>\n",
              "      <th>1</th>\n",
              "      <td>1</td>\n",
              "      <td>61.0</td>\n",
              "      <td>0</td>\n",
              "      <td>202.21</td>\n",
              "      <td>0</td>\n",
              "      <td>1</td>\n",
              "    </tr>\n",
              "    <tr>\n",
              "      <th>2</th>\n",
              "      <td>1</td>\n",
              "      <td>80.0</td>\n",
              "      <td>1</td>\n",
              "      <td>105.92</td>\n",
              "      <td>0</td>\n",
              "      <td>1</td>\n",
              "    </tr>\n",
              "    <tr>\n",
              "      <th>3</th>\n",
              "      <td>1</td>\n",
              "      <td>49.0</td>\n",
              "      <td>0</td>\n",
              "      <td>171.23</td>\n",
              "      <td>0</td>\n",
              "      <td>1</td>\n",
              "    </tr>\n",
              "    <tr>\n",
              "      <th>4</th>\n",
              "      <td>1</td>\n",
              "      <td>79.0</td>\n",
              "      <td>0</td>\n",
              "      <td>174.12</td>\n",
              "      <td>1</td>\n",
              "      <td>1</td>\n",
              "    </tr>\n",
              "  </tbody>\n",
              "</table>\n",
              "</div>"
            ],
            "text/plain": [
              "   stroke   age  heart_disease  avg_glucose_level  hypertension  ever_married\n",
              "0       1  67.0              1             228.69             0             1\n",
              "1       1  61.0              0             202.21             0             1\n",
              "2       1  80.0              1             105.92             0             1\n",
              "3       1  49.0              0             171.23             0             1\n",
              "4       1  79.0              0             174.12             1             1"
            ]
          },
          "metadata": {
            "tags": []
          },
          "execution_count": 254
        }
      ]
    },
    {
      "cell_type": "code",
      "metadata": {
        "colab": {
          "base_uri": "https://localhost:8080/",
          "height": 406
        },
        "id": "Giv3Y2eRMxam",
        "outputId": "4ac3b397-b719-4141-da9a-1d76ab9fd581"
      },
      "source": [
        "x = dataset.stroke\n",
        "y = dataset.age\n",
        "\n",
        "ax = sns.scatterplot(x,y)\n",
        "ax.figure.set_size_inches(10, 6)\n",
        "ax.hlines(y = y.mean(), xmin = x.min(), xmax = x.max(), colors='black', linestyles='dashed')\n",
        "ax.vlines(x = x.mean(), ymin = y.min(), ymax = y.max(), colors='black', linestyles='dashed')"
      ],
      "execution_count": 255,
      "outputs": [
        {
          "output_type": "execute_result",
          "data": {
            "text/plain": [
              "<matplotlib.collections.LineCollection at 0x7f2512b93f10>"
            ]
          },
          "metadata": {
            "tags": []
          },
          "execution_count": 255
        },
        {
          "output_type": "display_data",
          "data": {
            "image/png": "[encoded data removed]",
            "text/plain": [
              "<Figure size 720x432 with 1 Axes>"
            ]
          },
          "metadata": {
            "tags": [],
            "needs_background": "light"
          }
        }
      ]
    },
    {
      "cell_type": "markdown",
      "metadata": {
        "id": "uP1Sn-F1WTQm"
      },
      "source": [
        "# Regressão Linear"
      ]
    },
    {
      "cell_type": "code",
      "metadata": {
        "id": "ftUeQcLoOLP9"
      },
      "source": [
        "import statsmodels.api as sm"
      ],
      "execution_count": 256,
      "outputs": []
    },
    {
      "cell_type": "code",
      "metadata": {
        "id": "R9yaIWicReqK"
      },
      "source": [
        "dataset = dataset[[\"stroke\",\"age\"]]\n",
        "Y = dataset.stroke\n",
        "X = sm.add_constant(dataset.age)"
      ],
      "execution_count": 257,
      "outputs": []
    },
    {
      "cell_type": "code",
      "metadata": {
        "colab": {
          "base_uri": "https://localhost:8080/"
        },
        "id": "DnifN4TZXt46",
        "outputId": "5b77f627-5b24-44dc-b8ca-d1c63522689d"
      },
      "source": [
        "resultado_regressao = sm.OLS(Y, X).fit()\n",
        "print(resultado_regressao.summary())"
      ],
      "execution_count": 258,
      "outputs": [
        {
          "output_type": "stream",
          "text": [
            "                            OLS Regression Results                            \n",
            "==============================================================================\n",
            "Dep. Variable:                 stroke   R-squared:                       0.060\n",
            "Model:                            OLS   Adj. R-squared:                  0.060\n",
            "Method:                 Least Squares   F-statistic:                     326.8\n",
            "Date:                Fri, 12 Mar 2021   Prob (F-statistic):           7.44e-71\n",
            "Time:                        03:18:17   Log-Likelihood:                 754.65\n",
            "No. Observations:                5109   AIC:                            -1505.\n",
            "Df Residuals:                    5107   BIC:                            -1492.\n",
            "Df Model:                           1                                         \n",
            "Covariance Type:            nonrobust                                         \n",
            "==============================================================================\n",
            "                 coef    std err          t      P>|t|      [0.025      0.975]\n",
            "------------------------------------------------------------------------------\n",
            "const         -0.0522      0.006     -8.285      0.000      -0.065      -0.040\n",
            "age            0.0023      0.000     18.078      0.000       0.002       0.003\n",
            "==============================================================================\n",
            "Omnibus:                     3920.456   Durbin-Watson:                   0.122\n",
            "Prob(Omnibus):                  0.000   Jarque-Bera (JB):            51274.246\n",
            "Skew:                           3.794   Prob(JB):                         0.00\n",
            "Kurtosis:                      16.538   Cond. No.                         105.\n",
            "==============================================================================\n",
            "\n",
            "Warnings:\n",
            "[1] Standard Errors assume that the covariance matrix of the errors is correctly specified.\n"
          ],
          "name": "stdout"
        }
      ]
    },
    {
      "cell_type": "code",
      "metadata": {
        "colab": {
          "base_uri": "https://localhost:8080/",
          "height": 198
        },
        "id": "Q9vIm6tnXuos",
        "outputId": "14802f98-964a-445f-e68b-8b7425de504b"
      },
      "source": [
        "dataset['Y_previsto'] = resultado_regressao.predict()\n",
        "dataset.head()"
      ],
      "execution_count": 259,
      "outputs": [
        {
          "output_type": "execute_result",
          "data": {
            "text/html": [
              "<div>\n",
              "<style scoped>\n",
              "    .dataframe tbody tr th:only-of-type {\n",
              "        vertical-align: middle;\n",
              "    }\n",
              "\n",
              "    .dataframe tbody tr th {\n",
              "        vertical-align: top;\n",
              "    }\n",
              "\n",
              "    .dataframe thead th {\n",
              "        text-align: right;\n",
              "    }\n",
              "</style>\n",
              "<table border=\"1\" class=\"dataframe\">\n",
              "  <thead>\n",
              "    <tr style=\"text-align: right;\">\n",
              "      <th></th>\n",
              "      <th>stroke</th>\n",
              "      <th>age</th>\n",
              "      <th>Y_previsto</th>\n",
              "    </tr>\n",
              "  </thead>\n",
              "  <tbody>\n",
              "    <tr>\n",
              "      <th>0</th>\n",
              "      <td>1</td>\n",
              "      <td>67.0</td>\n",
              "      <td>0.104248</td>\n",
              "    </tr>\n",
              "    <tr>\n",
              "      <th>1</th>\n",
              "      <td>1</td>\n",
              "      <td>61.0</td>\n",
              "      <td>0.090236</td>\n",
              "    </tr>\n",
              "    <tr>\n",
              "      <th>2</th>\n",
              "      <td>1</td>\n",
              "      <td>80.0</td>\n",
              "      <td>0.134607</td>\n",
              "    </tr>\n",
              "    <tr>\n",
              "      <th>3</th>\n",
              "      <td>1</td>\n",
              "      <td>49.0</td>\n",
              "      <td>0.062212</td>\n",
              "    </tr>\n",
              "    <tr>\n",
              "      <th>4</th>\n",
              "      <td>1</td>\n",
              "      <td>79.0</td>\n",
              "      <td>0.132272</td>\n",
              "    </tr>\n",
              "  </tbody>\n",
              "</table>\n",
              "</div>"
            ],
            "text/plain": [
              "   stroke   age  Y_previsto\n",
              "0       1  67.0    0.104248\n",
              "1       1  61.0    0.090236\n",
              "2       1  80.0    0.134607\n",
              "3       1  49.0    0.062212\n",
              "4       1  79.0    0.132272"
            ]
          },
          "metadata": {
            "tags": []
          },
          "execution_count": 259
        }
      ]
    },
    {
      "cell_type": "code",
      "metadata": {
        "colab": {
          "base_uri": "https://localhost:8080/",
          "height": 444
        },
        "id": "sXNW4Ul5YC5u",
        "outputId": "fd8295d2-54a8-4470-f140-fb02e2ab12c9"
      },
      "source": [
        "resultado_regressao = sm.OLS(Y, X, missing='drop').fit()\n",
        "resultado_regressao.summary()"
      ],
      "execution_count": 260,
      "outputs": [
        {
          "output_type": "execute_result",
          "data": {
            "text/html": [
              "<table class=\"simpletable\">\n",
              "<caption>OLS Regression Results</caption>\n",
              "<tr>\n",
              "  <th>Dep. Variable:</th>         <td>stroke</td>      <th>  R-squared:         </th> <td>   0.060</td>\n",
              "</tr>\n",
              "<tr>\n",
              "  <th>Model:</th>                   <td>OLS</td>       <th>  Adj. R-squared:    </th> <td>   0.060</td>\n",
              "</tr>\n",
              "<tr>\n",
              "  <th>Method:</th>             <td>Least Squares</td>  <th>  F-statistic:       </th> <td>   326.8</td>\n",
              "</tr>\n",
              "<tr>\n",
              "  <th>Date:</th>             <td>Fri, 12 Mar 2021</td> <th>  Prob (F-statistic):</th> <td>7.44e-71</td>\n",
              "</tr>\n",
              "<tr>\n",
              "  <th>Time:</th>                 <td>03:18:17</td>     <th>  Log-Likelihood:    </th> <td>  754.65</td>\n",
              "</tr>\n",
              "<tr>\n",
              "  <th>No. Observations:</th>      <td>  5109</td>      <th>  AIC:               </th> <td>  -1505.</td>\n",
              "</tr>\n",
              "<tr>\n",
              "  <th>Df Residuals:</th>          <td>  5107</td>      <th>  BIC:               </th> <td>  -1492.</td>\n",
              "</tr>\n",
              "<tr>\n",
              "  <th>Df Model:</th>              <td>     1</td>      <th>                     </th>     <td> </td>   \n",
              "</tr>\n",
              "<tr>\n",
              "  <th>Covariance Type:</th>      <td>nonrobust</td>    <th>                     </th>     <td> </td>   \n",
              "</tr>\n",
              "</table>\n",
              "<table class=\"simpletable\">\n",
              "<tr>\n",
              "    <td></td>       <th>coef</th>     <th>std err</th>      <th>t</th>      <th>P>|t|</th>  <th>[0.025</th>    <th>0.975]</th>  \n",
              "</tr>\n",
              "<tr>\n",
              "  <th>const</th> <td>   -0.0522</td> <td>    0.006</td> <td>   -8.285</td> <td> 0.000</td> <td>   -0.065</td> <td>   -0.040</td>\n",
              "</tr>\n",
              "<tr>\n",
              "  <th>age</th>   <td>    0.0023</td> <td>    0.000</td> <td>   18.078</td> <td> 0.000</td> <td>    0.002</td> <td>    0.003</td>\n",
              "</tr>\n",
              "</table>\n",
              "<table class=\"simpletable\">\n",
              "<tr>\n",
              "  <th>Omnibus:</th>       <td>3920.456</td> <th>  Durbin-Watson:     </th> <td>   0.122</td> \n",
              "</tr>\n",
              "<tr>\n",
              "  <th>Prob(Omnibus):</th>  <td> 0.000</td>  <th>  Jarque-Bera (JB):  </th> <td>51274.246</td>\n",
              "</tr>\n",
              "<tr>\n",
              "  <th>Skew:</th>           <td> 3.794</td>  <th>  Prob(JB):          </th> <td>    0.00</td> \n",
              "</tr>\n",
              "<tr>\n",
              "  <th>Kurtosis:</th>       <td>16.538</td>  <th>  Cond. No.          </th> <td>    105.</td> \n",
              "</tr>\n",
              "</table><br/><br/>Warnings:<br/>[1] Standard Errors assume that the covariance matrix of the errors is correctly specified."
            ],
            "text/plain": [
              "<class 'statsmodels.iolib.summary.Summary'>\n",
              "\"\"\"\n",
              "                            OLS Regression Results                            \n",
              "==============================================================================\n",
              "Dep. Variable:                 stroke   R-squared:                       0.060\n",
              "Model:                            OLS   Adj. R-squared:                  0.060\n",
              "Method:                 Least Squares   F-statistic:                     326.8\n",
              "Date:                Fri, 12 Mar 2021   Prob (F-statistic):           7.44e-71\n",
              "Time:                        03:18:17   Log-Likelihood:                 754.65\n",
              "No. Observations:                5109   AIC:                            -1505.\n",
              "Df Residuals:                    5107   BIC:                            -1492.\n",
              "Df Model:                           1                                         \n",
              "Covariance Type:            nonrobust                                         \n",
              "==============================================================================\n",
              "                 coef    std err          t      P>|t|      [0.025      0.975]\n",
              "------------------------------------------------------------------------------\n",
              "const         -0.0522      0.006     -8.285      0.000      -0.065      -0.040\n",
              "age            0.0023      0.000     18.078      0.000       0.002       0.003\n",
              "==============================================================================\n",
              "Omnibus:                     3920.456   Durbin-Watson:                   0.122\n",
              "Prob(Omnibus):                  0.000   Jarque-Bera (JB):            51274.246\n",
              "Skew:                           3.794   Prob(JB):                         0.00\n",
              "Kurtosis:                      16.538   Cond. No.                         105.\n",
              "==============================================================================\n",
              "\n",
              "Warnings:\n",
              "[1] Standard Errors assume that the covariance matrix of the errors is correctly specified.\n",
              "\"\"\""
            ]
          },
          "metadata": {
            "tags": []
          },
          "execution_count": 260
        }
      ]
    },
    {
      "cell_type": "code",
      "metadata": {
        "colab": {
          "base_uri": "https://localhost:8080/",
          "height": 108
        },
        "id": "Vl4p9C2mabBG",
        "outputId": "a8435ff1-9b05-4ced-95d3-50bd492561ab"
      },
      "source": [
        "resultado_regressao.conf_int(alpha=0.05)"
      ],
      "execution_count": 261,
      "outputs": [
        {
          "output_type": "execute_result",
          "data": {
            "text/html": [
              "<div>\n",
              "<style scoped>\n",
              "    .dataframe tbody tr th:only-of-type {\n",
              "        vertical-align: middle;\n",
              "    }\n",
              "\n",
              "    .dataframe tbody tr th {\n",
              "        vertical-align: top;\n",
              "    }\n",
              "\n",
              "    .dataframe thead th {\n",
              "        text-align: right;\n",
              "    }\n",
              "</style>\n",
              "<table border=\"1\" class=\"dataframe\">\n",
              "  <thead>\n",
              "    <tr style=\"text-align: right;\">\n",
              "      <th></th>\n",
              "      <th>0</th>\n",
              "      <th>1</th>\n",
              "    </tr>\n",
              "  </thead>\n",
              "  <tbody>\n",
              "    <tr>\n",
              "      <th>const</th>\n",
              "      <td>-0.064573</td>\n",
              "      <td>-0.039863</td>\n",
              "    </tr>\n",
              "    <tr>\n",
              "      <th>age</th>\n",
              "      <td>0.002082</td>\n",
              "      <td>0.002589</td>\n",
              "    </tr>\n",
              "  </tbody>\n",
              "</table>\n",
              "</div>"
            ],
            "text/plain": [
              "              0         1\n",
              "const -0.064573 -0.039863\n",
              "age    0.002082  0.002589"
            ]
          },
          "metadata": {
            "tags": []
          },
          "execution_count": 261
        }
      ]
    },
    {
      "cell_type": "code",
      "metadata": {
        "colab": {
          "base_uri": "https://localhost:8080/",
          "height": 198
        },
        "id": "rkH0L6zOcFpv",
        "outputId": "8d637bd7-3aed-4d38-b077-c2edee43d752"
      },
      "source": [
        "dataset['Residuos'] = resultado_regressao.resid\n",
        "dataset.head()"
      ],
      "execution_count": 263,
      "outputs": [
        {
          "output_type": "execute_result",
          "data": {
            "text/html": [
              "<div>\n",
              "<style scoped>\n",
              "    .dataframe tbody tr th:only-of-type {\n",
              "        vertical-align: middle;\n",
              "    }\n",
              "\n",
              "    .dataframe tbody tr th {\n",
              "        vertical-align: top;\n",
              "    }\n",
              "\n",
              "    .dataframe thead th {\n",
              "        text-align: right;\n",
              "    }\n",
              "</style>\n",
              "<table border=\"1\" class=\"dataframe\">\n",
              "  <thead>\n",
              "    <tr style=\"text-align: right;\">\n",
              "      <th></th>\n",
              "      <th>stroke</th>\n",
              "      <th>age</th>\n",
              "      <th>Y_previsto</th>\n",
              "      <th>Residuos</th>\n",
              "    </tr>\n",
              "  </thead>\n",
              "  <tbody>\n",
              "    <tr>\n",
              "      <th>0</th>\n",
              "      <td>1</td>\n",
              "      <td>67.0</td>\n",
              "      <td>0.104248</td>\n",
              "      <td>0.895752</td>\n",
              "    </tr>\n",
              "    <tr>\n",
              "      <th>1</th>\n",
              "      <td>1</td>\n",
              "      <td>61.0</td>\n",
              "      <td>0.090236</td>\n",
              "      <td>0.909764</td>\n",
              "    </tr>\n",
              "    <tr>\n",
              "      <th>2</th>\n",
              "      <td>1</td>\n",
              "      <td>80.0</td>\n",
              "      <td>0.134607</td>\n",
              "      <td>0.865393</td>\n",
              "    </tr>\n",
              "    <tr>\n",
              "      <th>3</th>\n",
              "      <td>1</td>\n",
              "      <td>49.0</td>\n",
              "      <td>0.062212</td>\n",
              "      <td>0.937788</td>\n",
              "    </tr>\n",
              "    <tr>\n",
              "      <th>4</th>\n",
              "      <td>1</td>\n",
              "      <td>79.0</td>\n",
              "      <td>0.132272</td>\n",
              "      <td>0.867728</td>\n",
              "    </tr>\n",
              "  </tbody>\n",
              "</table>\n",
              "</div>"
            ],
            "text/plain": [
              "   stroke   age  Y_previsto  Residuos\n",
              "0       1  67.0    0.104248  0.895752\n",
              "1       1  61.0    0.090236  0.909764\n",
              "2       1  80.0    0.134607  0.865393\n",
              "3       1  49.0    0.062212  0.937788\n",
              "4       1  79.0    0.132272  0.867728"
            ]
          },
          "metadata": {
            "tags": []
          },
          "execution_count": 263
        }
      ]
    },
    {
      "cell_type": "code",
      "metadata": {
        "colab": {
          "base_uri": "https://localhost:8080/",
          "height": 431
        },
        "id": "AcCYUQMVdUqU",
        "outputId": "112fa170-56d6-4765-8958-7b00d89eb858"
      },
      "source": [
        "ax = sns.scatterplot(x=dataset.age, y=dataset.Residuos)\n",
        "ax.figure.set_size_inches(12, 6)\n",
        "ax.set_title('Resíduos vs Variável Independente', fontsize=18)\n",
        "ax.set_xlabel('X', fontsize=14)\n",
        "ax.set_ylabel('Resíduos', fontsize=14)\n",
        "ax"
      ],
      "execution_count": 265,
      "outputs": [
        {
          "output_type": "execute_result",
          "data": {
            "text/plain": [
              "<matplotlib.axes._subplots.AxesSubplot at 0x7f2512b9f310>"
            ]
          },
          "metadata": {
            "tags": []
          },
          "execution_count": 265
        },
        {
          "output_type": "display_data",
          "data": {
            "image/png": "[encoded data removed]",
            "text/plain": [
              "<Figure size 864x432 with 1 Axes>"
            ]
          },
          "metadata": {
            "tags": [],
            "needs_background": "light"
          }
        }
      ]
    },
    {
      "cell_type": "code",
      "metadata": {
        "colab": {
          "base_uri": "https://localhost:8080/",
          "height": 431
        },
        "id": "nVmXd45SdVr-",
        "outputId": "91928dcc-6a7b-4935-8958-54e755fc0827"
      },
      "source": [
        "ax = sns.scatterplot(x=dataset.Y_previsto, y=dataset.Residuos)\n",
        "ax.figure.set_size_inches(12, 6)\n",
        "ax.set_title('Resíduos vs Y_Previsto', fontsize=18)\n",
        "ax.set_xlabel('Y_Previsto', fontsize=14)\n",
        "ax.set_ylabel('Resíduos', fontsize=14)\n",
        "ax"
      ],
      "execution_count": 266,
      "outputs": [
        {
          "output_type": "execute_result",
          "data": {
            "text/plain": [
              "<matplotlib.axes._subplots.AxesSubplot at 0x7f2512b37bd0>"
            ]
          },
          "metadata": {
            "tags": []
          },
          "execution_count": 266
        },
        {
          "output_type": "display_data",
          "data": {
            "image/png": "[encoded data removed]",
            "text/plain": [
              "<Figure size 864x432 with 1 Axes>"
            ]
          },
          "metadata": {
            "tags": [],
            "needs_background": "light"
          }
        }
      ]
    },
    {
      "cell_type": "code",
      "metadata": {
        "colab": {
          "base_uri": "https://localhost:8080/",
          "height": 431
        },
        "id": "qyqbWppDdqDA",
        "outputId": "f33d001c-0fa2-44fb-dcc1-350bf590591e"
      },
      "source": [
        "ax = sns.scatterplot(x=dataset.Y_previsto, y=dataset.Residuos**2)\n",
        "ax.figure.set_size_inches(12, 6)\n",
        "ax.set_title('Resíduos² vs Y_Previsto', fontsize=18)\n",
        "ax.set_xlabel('Y_Previsto', fontsize=14)\n",
        "ax.set_ylabel('Resíduos²', fontsize=14)\n",
        "ax"
      ],
      "execution_count": 267,
      "outputs": [
        {
          "output_type": "execute_result",
          "data": {
            "text/plain": [
              "<matplotlib.axes._subplots.AxesSubplot at 0x7f2512aa6c10>"
            ]
          },
          "metadata": {
            "tags": []
          },
          "execution_count": 267
        },
        {
          "output_type": "display_data",
          "data": {
            "image/png": "[encoded data removed]",
            "text/plain": [
              "<Figure size 864x432 with 1 Axes>"
            ]
          },
          "metadata": {
            "tags": [],
            "needs_background": "light"
          }
        }
      ]
    },
    {
      "cell_type": "code",
      "metadata": {
        "id": "ygAM0-9bd5ZB"
      },
      "source": [
        ""
      ],
      "execution_count": null,
      "outputs": []
    }
  ]
}